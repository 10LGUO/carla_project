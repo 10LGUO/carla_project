{
 "cells": [
  {
   "cell_type": "markdown",
   "metadata": {},
   "source": [
    "This example shows an application of adaptive dynamic programming (ADP) to a linear system with a constant disturbance term. By combining the output regulation technique, the ADP-based control algorithm can find the optimal control policy."
   ]
  },
  {
   "cell_type": "code",
   "execution_count": 1,
   "metadata": {},
   "outputs": [],
   "source": [
    "import numpy as np\n",
    "import matplotlib.pyplot as plt\n",
    "from scipy.linalg import inv\n",
    "from scipy.linalg import null_space\n",
    "from numpy.linalg import matrix_rank\n",
    "import scipy.io\n",
    "from scipy import signal\n",
    "from cvxopt import matrix, solvers\n",
    "import pylab\n",
    "import math\n",
    "import random\n",
    "from sklearn import linear_model\n",
    "solvers.options['show_progress'] = False"
   ]
  },
  {
   "cell_type": "markdown",
   "metadata": {},
   "source": [
    "Problem 1: \n",
    "Objective: find $X^*$ and $U^*$, minimizing  $Tr(X^T\\bar{Q}X + U^T\\bar{R}U)$ , subject to\n",
    "\n",
    "$$\\begin{equation*}\n",
    "\\begin{aligned}\n",
    "\\hat{E} = AX + BU + \\hat{D} \\quad (10)\\\\\n",
    "0 = CX + \\hat{F} \\quad (11) \\\\\n",
    "\\text{with }L = U + KX \\quad(12)\n",
    "\\end{aligned}\n",
    "\\end{equation*}$$\n",
    "\n",
    "\n",
    "Define a Sylvester map $S:\\mathbb{R}^{n\\times q_m} \\rightarrow \\mathbb{R}^{n\\times q_m}$ by:\n",
    "$$\\begin{equation*}\n",
    "S(X) = X\\hat{E} - AX, X\\in q_m \\quad(20)\n",
    "\\end{equation*}\n",
    "$$\n",
    "Pick constant matrix $X_1 \\in \\mathbb{R}^{n\\times q_m}$ such that $CX_1 + \\hat{F} = 0$, then select $ X_i \\in \\mathbb{R}^{n\\times q_m}$ for $ i = 2,...,h+1$ such that all vectors $vec(X_i)$ form a basis for $ker(I_{q_m} \\otimes C)$, where $ h = (n-r)q_m$\n",
    "\n",
    "where $m = 1, q = 1, q_m = 1, r = 2, n = 4, h = (n - r)q_m$\n",
    "\n",
    "\n",
    "Solve problem 2 first, get $K_{j^*}$. Then use $K_{j^*}$ to get $S(x_1) ... S(x_{h+1})$ with $j = j^*$ and $ B = P_{j^*}^{-1}K^T_{j^*}R $. \n",
    "With S and B we have M and N.\n",
    "Then solve problem 1 with cost defined by $\\bar{Q}$ and $\\bar{R}$ as a convex optimization problem."
   ]
  },
  {
   "cell_type": "code",
   "execution_count": 1414,
   "metadata": {},
   "outputs": [],
   "source": [
    "#parameters for a passenger sedan\n",
    "vx = 10.0\n",
    "C_alphaf = 80000\n",
    "C_alphar = 80000\n",
    "m = 1573\n",
    "lf = 1.1\n",
    "lr = 1.58\n",
    "Iz = 2873\n",
    "\n",
    "A = np.array([[0.0, 1.0, 0.0, 0.0], \n",
    "              [0.0, -2*(C_alphaf+C_alphar)/(m*vx), 2*(C_alphaf+C_alphar)/m, -2*(C_alphaf*lf-C_alphar*lr)/(m*vx)],\n",
    "             [0.0, 0.0, 0.0, 1.0],\n",
    "             [0.0, -2*(C_alphaf*lf-C_alphar*lr)/(Iz*vx), 2*(C_alphaf*lf-C_alphar*lr)/Iz, -2*(C_alphaf*(lf**2)+C_alphar*(lr**2))/(Iz*vx)]\n",
    "             ])\n",
    "\n",
    "# A = np.array([[0.0, 0.0, 0.0, 1.0], \n",
    "#               [0.0, -2*(C_alphaf*(lf**2)+C_alphar*(lr**2))/(Iz*vx), 2*(C_alphaf*lf-C_alphar*lr)/Iz, -2*(C_alphaf*lf-C_alphar*lr)/(Iz*vx)],\n",
    "#              [0.0, 1.0, 0.0, 0.0],\n",
    "#               [0.0, -2*(C_alphaf*lf-C_alphar*lr)/(m*vx), 2*(C_alphaf+C_alphar)/m, -2*(C_alphaf+C_alphar)/(m*vx)]\n",
    "#              ])\n",
    "\n",
    "B = np.array([[0.0],\n",
    "              [2*C_alphaf/m],\n",
    "               [0.0],\n",
    "              [2*C_alphaf*lf/Iz]\n",
    "             ])\n",
    "\n",
    "# B = np.array([[0.0],\n",
    "#               [2*C_alphaf*lf/Iz],\n",
    "#               [0.0],\n",
    "#               [2*C_alphaf/m]\n",
    "#              ])\n",
    "\n",
    "C = np.array([[1.0, 0.0, 0.0, 0.0],\n",
    "             [0.0, 1.0, 0.0, 0.0],\n",
    "             [0.0, 0.0, 1.0, 0.0],\n",
    "             [0.0, 0.0, 0.0, 0.6]])\n",
    "\n",
    "F = np.array([[0.0],\n",
    "             [0.0],\n",
    "             [0.0],\n",
    "             [0.4]])\n",
    "\n",
    "D = np.array([[0.0], \n",
    "            [-2*(C_alphaf*lf-C_alphar*lr)/(m*vx) - vx],\n",
    "            [0.0],\n",
    "            [-2*(C_alphaf*(lf**2)+C_alphar*(lr**2))/(Iz*vx)]\n",
    "             ])\n",
    "\n",
    "# D = np.array([[0.0], \n",
    "#             [-2*(C_alphaf*(lf**2)+C_alphar*(lr**2))/(Iz*vx)],\n",
    "#             [0.0],\n",
    "#             [-2*(C_alphaf*lf-C_alphar*lr)/(m*vx) - vx],\n",
    "#              ])\n",
    "\n",
    "\n",
    "# parameters for matrix shape\n",
    "\n",
    "m = 1\n",
    "q = 1\n",
    "qm = 1\n",
    "r = 4\n",
    "n = 4\n",
    "h = (n-r)*qm\n",
    "Pi = 3.141\n",
    "dt = 1e-3\n",
    "\n",
    "\n",
    "# vehicle dynamics\n",
    "def env(x, u, dpsi):\n",
    "    x_ = x + dt*(A @ x + B @ u + D @ dpsi)\n",
    "#     x_ = x + dt*(A @ x + B @ u)\n",
    "    return x_\n",
    "\n",
    "\n",
    "# train over different curvature. (Truning radius for 1 to 20m)\n",
    "\n",
    "W = [round(1.0/r,3) for r in range(8, 21)] + [0.0]"
   ]
  },
  {
   "cell_type": "code",
   "execution_count": 1415,
   "metadata": {},
   "outputs": [
    {
     "data": {
      "text/plain": [
       "array([[   2.        ],\n",
       "       [ 589.14176732],\n",
       "       [   4.        ],\n",
       "       [-157.41371389]])"
      ]
     },
     "execution_count": 1415,
     "metadata": {},
     "output_type": "execute_result"
    }
   ],
   "source": [
    "tv = np.arange(1,5).reshape(4,1)\n",
    "A_@tv"
   ]
  },
  {
   "cell_type": "code",
   "execution_count": 1416,
   "metadata": {},
   "outputs": [
    {
     "data": {
      "text/plain": [
       "array([[   2.        ],\n",
       "       [ 589.14176732],\n",
       "       [   4.        ],\n",
       "       [-157.41371389]])"
      ]
     },
     "execution_count": 1416,
     "metadata": {},
     "output_type": "execute_result"
    }
   ],
   "source": [
    "tv2 = np.array([1,2,3,4])[:, np.newaxis]\n",
    "A@tv2"
   ]
  },
  {
   "cell_type": "code",
   "execution_count": 1417,
   "metadata": {},
   "outputs": [
    {
     "data": {
      "text/plain": [
       "[array([[0.],\n",
       "        [0.],\n",
       "        [0.],\n",
       "        [0.]]),\n",
       " array([[ 0.        ],\n",
       "        [ 0.        ],\n",
       "        [ 0.        ],\n",
       "        [-6.66666667]])]"
      ]
     },
     "execution_count": 1417,
     "metadata": {},
     "output_type": "execute_result"
    }
   ],
   "source": [
    "# Select basis for ker(np.kron(Iqm, C)) as Xi, i = 1...h+1. X0 is a constant matrix s.t. CX0 = 0\n",
    "Iqm = np.eye(1)\n",
    "ns_C = null_space(np.kron(Iqm, C))\n",
    "X = [np.zeros((n, qm)) for _ in range(h+2)]\n",
    "X[1] = np.array([0.0, 0.0, 0.0, -2/3*vx])[:, np.newaxis]\n",
    "for i in range(2, h+2):\n",
    "    X[i] = ns_C[:,i-2:i-1]\n",
    "\n",
    "X"
   ]
  },
  {
   "cell_type": "code",
   "execution_count": 1418,
   "metadata": {},
   "outputs": [
    {
     "data": {
      "text/plain": [
       "array([[ 0.],\n",
       "       [ 0.],\n",
       "       [ 0.],\n",
       "       [-4.]])"
      ]
     },
     "execution_count": 1418,
     "metadata": {},
     "output_type": "execute_result"
    }
   ],
   "source": [
    "C@X[1]"
   ]
  },
  {
   "cell_type": "code",
   "execution_count": 1419,
   "metadata": {},
   "outputs": [],
   "source": [
    "#generate waypoints based on curvature\n",
    "def waypoints_generator(r):\n",
    "    res = []\n",
    "    return res\n",
    "\n",
    "#check if rank condition of X holds, according to (29)\n",
    "\n",
    "#X = [gamma_xi_xi, gamma_xi_u, gamma_xi_w]\n",
    "\n",
    "#"
   ]
  },
  {
   "cell_type": "markdown",
   "metadata": {},
   "source": [
    "Initial control policy"
   ]
  },
  {
   "cell_type": "code",
   "execution_count": 1420,
   "metadata": {},
   "outputs": [],
   "source": [
    "# current best poles??\n",
    "Poles = np.array([-0.8,-0.88, -1.0, -1.1])\n",
    "K0 = signal.place_poles(A, B, Poles).gain_matrix"
   ]
  },
  {
   "cell_type": "code",
   "execution_count": 1421,
   "metadata": {},
   "outputs": [
    {
     "data": {
      "text/plain": [
       "array([[ 5.10099542e-05, -6.71873432e-01,  6.72084484e+00,\n",
       "         5.08260092e-01]])"
      ]
     },
     "execution_count": 1421,
     "metadata": {},
     "output_type": "execute_result"
    }
   ],
   "source": [
    "K0"
   ]
  },
  {
   "cell_type": "markdown",
   "metadata": {},
   "source": [
    "Model-free method to solve the control problem"
   ]
  },
  {
   "cell_type": "code",
   "execution_count": 1422,
   "metadata": {
    "scrolled": true
   },
   "outputs": [
    {
     "name": "stdout",
     "output_type": "stream",
     "text": [
      "Break at 14000\n",
      "18\n",
      "18\n"
     ]
    }
   ],
   "source": [
    "# Simulation\n",
    "memory_size = int(1e7)\n",
    "# variance of the exploration noise\n",
    "sigma = 0.1\n",
    "w0 = 1.0/8\n",
    "x_init = np.array([1.0, vx*math.tan(Pi/12) + vx*Pi/12, Pi/12, vx*w0])[:, np.newaxis]\n",
    "\n",
    "# memory matrices\n",
    "gamma_xx = [np.zeros((n*n, memory_size)) for _ in range(h+2)]\n",
    "gamma_xu = [np.zeros((n*m, memory_size)) for _ in range(h+2)]\n",
    "gamma_xw = [np.zeros((n*q, memory_size//q)) for _ in range(h+2)]\n",
    "delta_xx = [np.zeros((n*(n+1)//2, memory_size)) for _ in range(h+2)]\n",
    "# initialize u\n",
    "u = -K0@x_init\n",
    "\n",
    "# vecv operation\n",
    "def vecv(x):\n",
    "    l = len(x)\n",
    "    a = np.arange(l*l).reshape(l, l)\n",
    "    index_vecv = np.triu_indices(l)\n",
    "    tmp = a[index_vecv]\n",
    "    kron_product = np.kron(x, x)\n",
    "    result = kron_product[tmp]\n",
    "    return result\n",
    "\n",
    "# vecs operation\n",
    "def vecs(c):\n",
    "    l = c.shape[0]\n",
    "    a = np.arange(l*l).reshape(l, l)\n",
    "    index_vecs1 = np.triu_indices(l)\n",
    "    index_vecs2 = np.triu_indices(l,1)\n",
    "    c[index_vecs2] *= 2\n",
    "    return c[index_vecs1]\n",
    "\n",
    "# collect data for gamma_xx, gamma_xu, gamma_xw and delta_xx\n",
    "step = 0\n",
    "x = x_init\n",
    "while True:\n",
    "    for w in W:\n",
    "        w = np.array([[w]])\n",
    "        for j in range(1000):\n",
    "            noise = np.random.normal(np.array([0]), np.array([sigma]))[:, np.newaxis]\n",
    "            u = -K0@x + noise\n",
    "            newx = env(x, u, vx*w)\n",
    "            for i in range(h+2):\n",
    "                x_bar = x - (X[i]@w)\n",
    "                newx_bar = newx - (X[i]@w)\n",
    "                gamma_xx[i][:,step:step+1] = dt * np.kron(x_bar, x_bar)\n",
    "                gamma_xu[i][:,step:step+1] = dt * np.kron(x_bar, u)\n",
    "                gamma_xw[i][:,step:step+1] = dt * np.kron(x_bar, w)\n",
    "                delta_xx[i][:,step:step+1] = vecv(newx_bar) - vecv(x_bar)\n",
    "            x = newx\n",
    "            step += 1\n",
    "    \n",
    "    # check if meet rank condition, should be n(n+1)/2 + (m+qm)n = 18\n",
    "    meet_rank_condition = True\n",
    "    for i in range(h+2):\n",
    "        if matrix_rank(np.hstack((gamma_xx[i][:, :step].T, gamma_xu[i][:, :step].T, gamma_xw[i][:, :step].T))) < 18:\n",
    "            meet_rank_condition = False \n",
    "    \n",
    "    if meet_rank_condition:\n",
    "        print(\"Break at \" + str(step))\n",
    "        for i in range(h+2):\n",
    "            print(matrix_rank(np.hstack((gamma_xx[i][:, :step].T, gamma_xu[i][:, :step].T, gamma_xw[i][:, :step].T))))\n",
    "        break\n",
    "    else: print(\"Exploring: \" + str(step))\n",
    "        \n",
    "for i in range(h+2):\n",
    "    gamma_xx[i] = gamma_xx[i][:, :step]\n",
    "    gamma_xu[i] = gamma_xu[i][:, :step]\n",
    "    gamma_xw[i] = gamma_xw[i][:, :step]\n",
    "    delta_xx[i] = delta_xx[i][:, :step]\n",
    "\n",
    "memory_size = step"
   ]
  },
  {
   "cell_type": "code",
   "execution_count": 1423,
   "metadata": {},
   "outputs": [],
   "source": [
    "#cost design for problem 2\n",
    "Q = np.array([[100, 0, 0, 0],\n",
    "              [0, 1, 0, 0],\n",
    "             [0, 0, 1, 0],\n",
    "             [0, 0, 0, 1]])\n",
    "R = np.array([[0.1]])"
   ]
  },
  {
   "cell_type": "code",
   "execution_count": 1424,
   "metadata": {},
   "outputs": [],
   "source": [
    "Psi = [np.zeros((memory_size,18)) for _ in range(h+2)]\n",
    "Phi = [np.zeros((memory_size,1)) for _ in range(h+2)]\n",
    "In = np.eye(4)\n",
    "def vec(c):\n",
    "    return c.flatten('F')[:,np.newaxis]\n",
    "\n",
    "def Psi_update(i, K_):\n",
    "    Psi[i] = np.hstack((delta_xx[i].T, -2*gamma_xx[i].T@np.kron(In, K_.T@R)-2*gamma_xu[i].T@np.kron(In,R), -2*gamma_xw[i].T))\n",
    "\n",
    "def Phi_update(i, K_):\n",
    "    Phi[i] = -(gamma_xx[i].T)@vec(Q+K_.T@R@K_)\n",
    "\n",
    "# Initialize Psi and Phi\n",
    "for i in range(h+2):\n",
    "    Psi_update(i, K0)\n",
    "    Phi_update(i, K0)\n",
    "    "
   ]
  },
  {
   "cell_type": "code",
   "execution_count": 1425,
   "metadata": {},
   "outputs": [
    {
     "name": "stdout",
     "output_type": "stream",
     "text": [
      "Break at j = 31, i = 0\n",
      "[[21.80271829]\n",
      " [ 1.47358859]\n",
      " [ 1.7306366 ]\n",
      " [-3.12550878]]\n",
      "Break at j = 31, i = 1\n",
      "[[ -4.67195778]\n",
      " [ -0.18364737]\n",
      " [-21.67960718]\n",
      " [ -0.37509651]]\n"
     ]
    }
   ],
   "source": [
    "## algorithm begins here\n",
    "iter_max = 100\n",
    "# size_XY = time_max\n",
    "# size_batch = 1\n",
    "# size_memory = memory.shape[0]\n",
    "\n",
    "# Solve Pj, Kj+1 until norm(Pj - Pj-1) < 1e-2\n",
    "K = [np.zeros((m,n))for _ in range(h+2)]\n",
    "P = [np.zeros((n,n)) for _ in range(h+2)]\n",
    "Pstar = np.zeros((n,n))\n",
    "Kstar = np.zeros((m,n))\n",
    "Vstar = [np.zeros((n, 1)) for _ in range(h+2)]\n",
    "errP = np.zeros((h+2,iter_max))\n",
    "errK = np.zeros((h+2,iter_max))\n",
    "clf = linear_model.LinearRegression()\n",
    "P_vecs_size = n*(n+1)//2\n",
    "for i in range(h+2):\n",
    "    err_P = float('inf')\n",
    "    Ppre = np.array([])\n",
    "    Kpre = np.array([])\n",
    "    for j in range(iter_max):\n",
    "#         pp = scipy.linalg.lstsq(Psi[i], Phi[i])[0]\n",
    "        clf.fit(Psi[i], Phi[i])\n",
    "        pp = clf.coef_.T\n",
    "        P_vecs = pp[:P_vecs_size, :]\n",
    "        K_vec = pp[P_vecs_size: P_vecs_size+n, :]\n",
    "        K[i] = K_vec.T \n",
    "        temp5 = np.zeros((n,n))\n",
    "        l = 0\n",
    "        for t1 in range(n):\n",
    "            for t2 in range(t1, n):\n",
    "                temp5[t1, t2] = P_vecs[l]\n",
    "                l = l+1\n",
    "\n",
    "        P[i] = (temp5 + temp5.T)/2.0\n",
    "        if Ppre.any():\n",
    "            err_P = np.linalg.norm(P[i] - Ppre)\n",
    "            errP[i,j-1] = err_P\n",
    "        \n",
    "        Ppre = P[i]\n",
    "        if Kpre.any():\n",
    "            err_K = np.linalg.norm(K[i] - Kpre)\n",
    "            errK[i,j-1] = err_K\n",
    "        \n",
    "        Kpre = K[i]\n",
    "        Psi_update(i, K[i])\n",
    "        Phi_update(i, K[i])\n",
    "        \n",
    "        if (err_P < 1e-2):\n",
    "            Pstar = P[i]\n",
    "            Kstar = K[i]\n",
    "            Vstar[i] = pp[P_vecs_size+n:,:] \n",
    "            print(\"Break at j = \" + str(j) + \", i = \" + str(i))\n",
    "#             print(K[i])\n",
    "            print(pp[P_vecs_size+n:,:])\n",
    "            break\n",
    "            \n",
    "#         if j == iter_max-1:\n",
    "#             Pstar = P[i]\n",
    "#             Kstar = K[i]\n",
    "#             Vstar[i] = pp[P_vecs_size+n:,:] \n",
    "            "
   ]
  },
  {
   "cell_type": "code",
   "execution_count": 1426,
   "metadata": {},
   "outputs": [
    {
     "data": {
      "text/plain": [
       "(10, 1)"
      ]
     },
     "execution_count": 1426,
     "metadata": {},
     "output_type": "execute_result"
    }
   ],
   "source": [
    "P_vecs.shape"
   ]
  },
  {
   "cell_type": "markdown",
   "metadata": {},
   "source": [
    "Plots show convergence of K and P values"
   ]
  },
  {
   "cell_type": "code",
   "execution_count": 1427,
   "metadata": {},
   "outputs": [],
   "source": [
    "##plots \n",
    "fontsize_xylabel = 18\n",
    "fontsize_ticks = 10\n",
    "fontsize_legend = 16\n",
    "linewidth=1\n",
    "markersize=3"
   ]
  },
  {
   "cell_type": "code",
   "execution_count": 1428,
   "metadata": {},
   "outputs": [
    {
     "data": {
      "text/plain": [
       "<matplotlib.legend.Legend at 0x7f3ed2118820>"
      ]
     },
     "execution_count": 1428,
     "metadata": {},
     "output_type": "execute_result"
    },
    {
     "data": {
      "image/png": "[encoded data removed]",
      "text/plain": [
       "<Figure size 432x288 with 2 Axes>"
      ]
     },
     "metadata": {
      "needs_background": "light"
     },
     "output_type": "display_data"
    }
   ],
   "source": [
    "try:\n",
    "    errP = np.trim_zeros(errP)\n",
    "except:\n",
    "    pass\n",
    "\n",
    "try:\n",
    "    errK = np.trim_zeros(errK)\n",
    "except:\n",
    "    pass\n",
    "\n",
    "plt.figure(5)\n",
    "plt.subplot(211)\n",
    "plt.ticklabel_format(style='sci', axis='y', scilimits=(0,0))\n",
    "plt.plot(errP[1,1:],'bs--',linewidth=linewidth, label=r'$|P_{j}-P_{j-1}|$', markersize=markersize)\n",
    "plt.tick_params(\n",
    "    axis='x',          # changes apply to the x-axis\n",
    "    which='both',      # both major and minor ticks are affected\n",
    "    bottom=False,      # ticks along the bottom edge are off\n",
    "    top=False,         # ticks along the top edge are off\n",
    "    labelbottom=False) # labels along the bottom edge are off\n",
    "plt.legend(fontsize=fontsize_legend, loc=0, ncol=1)\n",
    "plt.subplot(212)\n",
    "plt.ticklabel_format(style='sci', axis='y', scilimits=(0,0))\n",
    "plt.plot(errK[1,:],'bs--',linewidth=linewidth, label=r'$|K_{j}-K_{j-1}|$', markersize=markersize)\n",
    "plt.xlabel('iteration', fontsize=fontsize_xylabel)\n",
    "plt.tick_params(labelsize=fontsize_ticks)\n",
    "plt.legend(fontsize=fontsize_legend, loc=0, ncol=1)"
   ]
  },
  {
   "cell_type": "markdown",
   "metadata": {},
   "source": [
    "Solve L with ADP (system unknown)"
   ]
  },
  {
   "cell_type": "code",
   "execution_count": 1429,
   "metadata": {},
   "outputs": [],
   "source": [
    "## cost (reward) design\n",
    "# For perfect result : use\n",
    "# Q_bar = np.array([[1, 0, 0, 0],\n",
    "#               [0, 2.5e7, 0, 0],\n",
    "#              [0, 0, 1e9, 0],\n",
    "#              [0, 0, 0, 1e9]])\n",
    "# R_bar = np.array([[1.5e5]])\n",
    "\n",
    "Q_bar = np.array([[1, 0, 0, 0],\n",
    "              [0, 1, 0, 0],\n",
    "             [0, 0, 1, 0],\n",
    "             [0, 0, 0, 1]])\n",
    "R_bar = np.array([[1]])"
   ]
  },
  {
   "cell_type": "code",
   "execution_count": 1430,
   "metadata": {
    "scrolled": true
   },
   "outputs": [
    {
     "name": "stdout",
     "output_type": "stream",
     "text": [
      "     pcost       dcost       gap    pres   dres\n",
      " 0:  2.2665e+01  3.1413e+11  5e+00  2e+00  4e-05\n",
      " 1:  2.2665e+01  6.2512e+11  5e-02  2e-01  6e-05\n",
      " 2:  2.2665e+01  9.3611e+11  5e-04  2e-01  2e-04\n",
      " 3:  2.2665e+01  1.2471e+12  5e-06  2e-01  1e-04\n",
      " 4:  2.2665e+01  1.5581e+12  5e-08  2e-01  1e-04\n",
      " 5:  2.2665e+01  1.8691e+12  5e-10  2e-01  3e-04\n",
      " 6:  2.2665e+01  2.1801e+12  5e-12  2e-01  1e-03\n",
      " 7:  2.2665e+01  2.4911e+12  5e-14  2e-01  2e-04\n",
      " 8:  2.2665e+01  2.8020e+12  5e-16  2e-01  1e-03\n",
      " 9:  2.2665e+01  3.1130e+12  5e-18  2e-01  3e-04\n",
      "10:  2.2665e+01  3.4240e+12  5e-20  2e-01  5e-04\n",
      "11:  2.2665e+01  3.7350e+12  5e-22  2e-01  7e-04\n",
      "12:  2.2665e+01  4.0460e+12  5e-24  2e-01  2e-03\n",
      "13:  2.2665e+01  4.3570e+12  5e-26  2e-01  8e-04\n",
      "14:  2.2665e+01  4.6680e+12  5e-28  2e-01  4e-04\n",
      "15:  2.2665e+01  4.9790e+12  5e-30  2e-01  2e-03\n",
      "16:  2.2665e+01  5.2900e+12  5e-32  2e-01  3e-03\n",
      "17:  2.2665e+01  5.6010e+12  5e-34  2e-01  2e-03\n",
      "18:  2.2665e+01  5.9119e+12  5e-36  2e-01  7e-04\n",
      "19:  2.2665e+01  6.2229e+12  5e-38  2e-01  5e-04\n",
      "20:  2.2665e+01  6.5339e+12  5e-40  2e-01  4e-03\n",
      "21:  2.2665e+01  6.8449e+12  5e-42  2e-01  3e-03\n",
      "22:  2.2665e+01  7.1559e+12  5e-44  2e-01  6e-03\n",
      "23:  2.2665e+01  7.4669e+12  5e-46  2e-01  4e-03\n",
      "24:  2.2665e+01  7.7779e+12  5e-48  2e-01  7e-04\n",
      "25:  2.2665e+01  8.0889e+12  5e-50  2e-01  6e-03\n",
      "26:  2.2665e+01  8.3999e+12  5e-52  2e-01  5e-03\n",
      "27:  2.2665e+01  8.7109e+12  5e-54  2e-01  4e-04\n",
      "28:  2.2665e+01  9.0218e+12  5e-56  2e-01  2e-03\n",
      "29:  2.2665e+01  9.3328e+12  5e-58  2e-01  1e-03\n",
      "30:  2.2665e+01  9.6438e+12  5e-60  2e-01  6e-05\n",
      "31:  2.2665e+01  9.9548e+12  5e-62  2e-01  5e-03\n",
      "32:  2.2665e+01  1.0266e+13  5e-64  2e-01  2e-03\n",
      "33:  2.2665e+01  1.0577e+13  5e-66  2e-01  2e-04\n",
      "34:  2.2665e+01  1.0888e+13  5e-68  2e-01  1e-03\n",
      "35:  2.2665e+01  1.1199e+13  5e-70  2e-01  2e-03\n",
      "36:  2.2665e+01  1.1510e+13  5e-72  2e-01  3e-03\n",
      "37:  2.2665e+01  1.1821e+13  5e-74  2e-01  6e-04\n",
      "38:  2.2665e+01  1.2132e+13  5e-76  2e-01  6e-03\n",
      "39:  2.2665e+01  1.2443e+13  5e-78  2e-01  5e-03\n",
      "40:  2.2665e+01  1.2754e+13  5e-80  2e-01  8e-03\n",
      "41:  2.2665e+01  1.3065e+13  5e-82  2e-01  1e-02\n",
      "42:  2.2665e+01  1.3376e+13  5e-84  2e-01  3e-03\n",
      "43:  2.2665e+01  1.3687e+13  5e-86  2e-01  3e-05\n",
      "44:  2.2665e+01  1.3998e+13  5e-88  2e-01  3e-03\n",
      "45:  2.2665e+01  1.4309e+13  5e-90  2e-01  2e-03\n",
      "46:  2.2665e+01  1.4620e+13  5e-92  2e-01  8e-03\n",
      "47:  2.2665e+01  1.4931e+13  5e-94  2e-01  3e-03\n",
      "48:  2.2665e+01  1.5242e+13  5e-96  2e-01  1e-02\n",
      "49:  2.2665e+01  1.5553e+13  5e-98  2e-01  6e-04\n",
      "50:  2.2665e+01  1.5864e+13  5e-100  2e-01  3e-03\n",
      "51:  2.2665e+01  1.6175e+13  5e-102  2e-01  2e-03\n",
      "52:  2.2665e+01  1.6486e+13  5e-104  2e-01  9e-04\n",
      "53:  2.2665e+01  1.6797e+13  5e-106  2e-01  4e-03\n",
      "54:  2.2665e+01  1.7108e+13  5e-108  2e-01  1e-03\n",
      "55:  2.2665e+01  1.7419e+13  5e-110  2e-01  7e-03\n",
      "56:  2.2665e+01  1.7730e+13  5e-112  2e-01  4e-03\n",
      "57:  2.2665e+01  1.8041e+13  5e-114  2e-01  1e-03\n",
      "58:  2.2665e+01  1.8352e+13  5e-116  2e-01  2e-03\n",
      "59:  2.2665e+01  1.8663e+13  5e-118  2e-01  1e-02\n",
      "60:  2.2665e+01  1.8974e+13  5e-120  2e-01  1e-02\n",
      "61:  2.2665e+01  1.9285e+13  5e-122  2e-01  6e-03\n",
      "62:  2.2665e+01  1.9595e+13  5e-124  2e-01  5e-03\n",
      "63:  2.2665e+01  1.9906e+13  5e-126  2e-01  8e-03\n",
      "64:  2.2665e+01  2.0217e+13  5e-128  2e-01  6e-03\n",
      "65:  2.2665e+01  2.0528e+13  5e-130  2e-01  3e-03\n",
      "66:  2.2665e+01  2.0839e+13  5e-132  2e-01  2e-04\n",
      "67:  2.2665e+01  2.1150e+13  5e-134  2e-01  2e-03\n",
      "68:  2.2665e+01  2.1461e+13  5e-136  2e-01  3e-03\n",
      "69:  2.2665e+01  2.1772e+13  5e-138  2e-01  9e-05\n",
      "70:  2.2665e+01  2.2083e+13  5e-140  2e-01  3e-03\n",
      "71:  2.2665e+01  2.2394e+13  5e-142  2e-01  6e-03\n",
      "72:  2.2665e+01  2.2705e+13  5e-144  2e-01  7e-03\n",
      "73:  2.2665e+01  2.3016e+13  5e-146  2e-01  5e-03\n",
      "74:  2.2665e+01  2.3327e+13  5e-148  2e-01  1e-02\n",
      "75:  2.2665e+01  2.3638e+13  5e-150  2e-01  9e-03\n",
      "76:  2.2665e+01  2.3949e+13  5e-152  2e-01  1e-02\n",
      "77:  2.2665e+01  2.4260e+13  5e-154  2e-01  9e-03\n",
      "78:  2.2665e+01  2.4571e+13  5e-156  2e-01  1e-03\n",
      "79:  2.2665e+01  2.4882e+13  5e-158  2e-01  4e-03\n",
      "80:  2.2665e+01  2.5193e+13  5e-160  2e-01  1e-02\n",
      "81:  2.2665e+01  2.5504e+13  5e-162  2e-01  1e-02\n",
      "82:  2.2665e+01  2.5815e+13  5e-164  2e-01  2e-02\n",
      "83:  2.2665e+01  2.6126e+13  5e-166  2e-01  7e-03\n",
      "84:  2.2665e+01  2.6437e+13  5e-168  2e-01  6e-03\n",
      "85:  2.2665e+01  2.6748e+13  5e-170  2e-01  3e-03\n",
      "86:  2.2665e+01  2.7059e+13  5e-172  2e-01  1e-02\n",
      "87:  2.2665e+01  2.7370e+13  5e-174  2e-01  1e-02\n",
      "88:  2.2665e+01  2.7681e+13  5e-176  2e-01  5e-03\n",
      "89:  2.2665e+01  2.7992e+13  5e-178  2e-01  2e-02\n",
      "90:  2.2665e+01  2.8303e+13  5e-180  2e-01  6e-03\n",
      "91:  2.2665e+01  2.8614e+13  5e-182  2e-01  2e-02\n",
      "92:  2.2665e+01  2.8925e+13  5e-184  2e-01  2e-02\n",
      "93:  2.2665e+01  2.9236e+13  5e-186  2e-01  3e-03\n",
      "94:  2.2665e+01  2.9547e+13  5e-188  2e-01  5e-03\n",
      "95:  2.2665e+01  2.9858e+13  5e-190  2e-01  8e-03\n",
      "96:  2.2665e+01  3.0169e+13  5e-192  2e-01  5e-03\n",
      "97:  2.2665e+01  3.0480e+13  5e-194  2e-01  2e-03\n",
      "98:  2.2665e+01  3.0791e+13  5e-196  2e-01  5e-04\n",
      "99:  2.2665e+01  3.1102e+13  5e-198  2e-01  2e-02\n",
      "100:  2.2665e+01  3.1413e+13  5e-200  2e-01  1e-02\n",
      "Terminated (maximum number of iterations reached).\n"
     ]
    }
   ],
   "source": [
    "# Repeat solving S(Xi) from (36): Learnt S\n",
    "S = [np.zeros((n,qm)) for _ in range(h+2)]\n",
    "D_hat = (Vstar[0].T @ scipy.linalg.inv((Pstar))).T\n",
    "for i in range(1, h+2):\n",
    "    S[i] = (D_hat.T - (Vstar[i].T @ scipy.linalg.inv((Pstar)))).T\n",
    "\n",
    "# Learnt B\n",
    "B_ = scipy.linalg.inv((Pstar))@Kstar.T@R\n",
    "\n",
    "## Get M and N:\n",
    "# Get Alpha and b\n",
    "l_Alpha = h+n*qm+m*qm \n",
    "Alpha = np.zeros((n*2, l_Alpha))\n",
    "b = np.zeros((n*2,1))\n",
    "\n",
    "for i in range(2,h+2):\n",
    "    Alpha[:n, i-2:i-1] = vec(S[i])\n",
    "    Alpha[n:, i-2:i-1] = vec(X[i])\n",
    "    \n",
    "Alpha[:qm*n, -1:] = np.kron(-np.eye(qm), B_)\n",
    "Alpha[n*qm:, h:h+n*qm] = -np.eye(n*qm)\n",
    "b = np.vstack((vec(-S[1] + D_hat), vec(-X[1])))\n",
    "\n",
    "A_11 = Alpha[:2*n-h, :h]\n",
    "A_21 = Alpha[2*n-h:, :h]\n",
    "A_12 = Alpha[:2*n-h, h:]\n",
    "A_22 = Alpha[2*n-h:, h:]\n",
    "\n",
    "b1 = b[h:]\n",
    "b2 = b[:h]\n",
    "\n",
    "M = (-A_11)@np.linalg.inv((A_21))@A_22 + A_12\n",
    "N = (-A_11)@np.linalg.inv((A_21))@b2 + b1\n",
    "\n",
    "# Get Xstar and Ustar:\n",
    "\n",
    "Temp = np.zeros((n*qm+m*qm, n*qm+m*qm))\n",
    "Temp[:n*qm,:n*qm] = np.kron(np.eye(qm), Q_bar)\n",
    "Temp[n*qm:,n*qm:] = np.kron(np.eye(qm), R_bar)\n",
    "\n",
    "#cvxopt.solvers.coneqp(P, q[, G, h[, dims[, A, b[, initvals[, kktsolver]]]]])\n",
    "H = np.zeros((n*qm+m*qm, 1))\n",
    "G = np.zeros((n*qm+m*qm, n*qm+m*qm))\n",
    "sol = solvers.qp(matrix(Temp), matrix(np.zeros((n*qm+m*qm, 1))), matrix(G), matrix(H), matrix(M), matrix(N), kktsolver='ldl', options={'kktreg':1e-9})\n",
    "Xstar = sol['x'][:n*qm]\n",
    "Ustar = sol['x'][n*qm:]\n",
    "Lstar = Ustar + Kstar@Xstar"
   ]
  },
  {
   "cell_type": "code",
   "execution_count": 1431,
   "metadata": {},
   "outputs": [
    {
     "data": {
      "text/plain": [
       "array([[  0.        ],\n",
       "       [101.71646535],\n",
       "       [  0.        ],\n",
       "       [ 61.26000696]])"
      ]
     },
     "execution_count": 1431,
     "metadata": {},
     "output_type": "execute_result"
    }
   ],
   "source": [
    "B"
   ]
  },
  {
   "cell_type": "code",
   "execution_count": 1432,
   "metadata": {},
   "outputs": [
    {
     "data": {
      "text/plain": [
       "array([[-2.80889502e-02],\n",
       "       [ 1.06273522e+02],\n",
       "       [-8.09665120e-02],\n",
       "       [ 6.21791845e+01]])"
      ]
     },
     "execution_count": 1432,
     "metadata": {},
     "output_type": "execute_result"
    }
   ],
   "source": [
    "B_"
   ]
  },
  {
   "cell_type": "code",
   "execution_count": 1433,
   "metadata": {},
   "outputs": [
    {
     "data": {
      "text/plain": [
       "array([[  0.        ],\n",
       "       [ -5.11760966],\n",
       "       [  0.        ],\n",
       "       [-20.64128089]])"
      ]
     },
     "execution_count": 1433,
     "metadata": {},
     "output_type": "execute_result"
    }
   ],
   "source": [
    "D"
   ]
  },
  {
   "cell_type": "code",
   "execution_count": 1434,
   "metadata": {},
   "outputs": [
    {
     "data": {
      "text/plain": [
       "array([[ 2.01387576e-02],\n",
       "       [-4.67308464e+01],\n",
       "       [ 1.11764755e-01],\n",
       "       [-2.00388464e+02]])"
      ]
     },
     "execution_count": 1434,
     "metadata": {},
     "output_type": "execute_result"
    }
   ],
   "source": [
    "D_hat"
   ]
  },
  {
   "cell_type": "code",
   "execution_count": 1435,
   "metadata": {},
   "outputs": [
    {
     "data": {
      "text/plain": [
       "array([[ 0.        ],\n",
       "       [95.68730139],\n",
       "       [ 0.        ],\n",
       "       [57.62886794]])"
      ]
     },
     "execution_count": 1435,
     "metadata": {},
     "output_type": "execute_result"
    }
   ],
   "source": [
    "B*Ustar"
   ]
  },
  {
   "cell_type": "code",
   "execution_count": 1436,
   "metadata": {},
   "outputs": [
    {
     "name": "stdout",
     "output_type": "stream",
     "text": [
      "[ 9.41e-01]\n",
      "\n"
     ]
    }
   ],
   "source": [
    "print(Ustar)"
   ]
  },
  {
   "cell_type": "code",
   "execution_count": 1437,
   "metadata": {},
   "outputs": [
    {
     "name": "stdout",
     "output_type": "stream",
     "text": [
      "[ 0.00e+00]\n",
      "[ 0.00e+00]\n",
      "[ 0.00e+00]\n",
      "[-6.67e+00]\n",
      "\n"
     ]
    }
   ],
   "source": [
    "print(Xstar)"
   ]
  },
  {
   "cell_type": "code",
   "execution_count": 1438,
   "metadata": {},
   "outputs": [
    {
     "data": {
      "text/plain": [
       "array([[  0.        ],\n",
       "       [-32.54926891],\n",
       "       [ -6.66666667],\n",
       "       [137.60853927]])"
      ]
     },
     "execution_count": 1438,
     "metadata": {},
     "output_type": "execute_result"
    }
   ],
   "source": [
    "A@Xstar"
   ]
  },
  {
   "cell_type": "code",
   "execution_count": 1439,
   "metadata": {
    "scrolled": true
   },
   "outputs": [
    {
     "data": {
      "text/plain": [
       "array([[   0.        ],\n",
       "       [ -51.17609663],\n",
       "       [   0.        ],\n",
       "       [-206.41280891]])"
      ]
     },
     "execution_count": 1439,
     "metadata": {},
     "output_type": "execute_result"
    }
   ],
   "source": [
    "D*vx"
   ]
  },
  {
   "cell_type": "code",
   "execution_count": 1440,
   "metadata": {},
   "outputs": [
    {
     "data": {
      "text/plain": [
       "array([[-6.28524201e-03],\n",
       "       [ 2.06941265e+01],\n",
       "       [-6.63106920e+00],\n",
       "       [-4.28636278e+00]])"
      ]
     },
     "execution_count": 1440,
     "metadata": {},
     "output_type": "execute_result"
    }
   ],
   "source": [
    "A@Xstar + B_*Ustar + D_hat"
   ]
  },
  {
   "cell_type": "markdown",
   "metadata": {},
   "source": [
    "Lstar with known system:"
   ]
  },
  {
   "cell_type": "code",
   "execution_count": 1449,
   "metadata": {},
   "outputs": [
    {
     "name": "stdout",
     "output_type": "stream",
     "text": [
      "0.056\n",
      "0.091\n",
      "0.083\n",
      "0.125\n",
      "0.1\n",
      "0.062\n",
      "0.053\n",
      "0.067\n",
      "0.0\n",
      "0.111\n",
      "0.059\n",
      "0.077\n",
      "0.05\n",
      "0.071\n"
     ]
    }
   ],
   "source": [
    "#Test ADP contoller\n",
    "time_simulation_adp = 28000\n",
    "x_traj_after_learning = np.zeros((4, time_simulation_adp))\n",
    "u_traj_after_learning = np.zeros((1, time_simulation_adp))\n",
    "#x = np.random.normal(np.array([0.5, 0.5]), np.array([0.0, 0.0]))[:, np.newaxis]\n",
    "random.shuffle(W)\n",
    "x_ = np.array([0.1, vx*math.tan(Pi/12) + vx*Pi/12, Pi/12, vx*W[0]])[:, np.newaxis]\n",
    "i = 0\n",
    "\n",
    "for w in W:\n",
    "    print(w)\n",
    "    for _ in range(time_simulation_adp//len(W)):\n",
    "        x = x_\n",
    "        u = -Kstar @ x + Lstar * w\n",
    "        x_ = env(x, u, vx*np.array([[w]]))\n",
    "        x_traj_after_learning[:, i] = x_.reshape((4))\n",
    "        u_traj_after_learning[:, i] = u.reshape((1))\n",
    "        i += 1"
   ]
  },
  {
   "cell_type": "code",
   "execution_count": 1450,
   "metadata": {},
   "outputs": [],
   "source": [
    "##plots \n",
    "fontsize_xylabel = 12\n",
    "fontsize_ticks = 12\n",
    "fontsize_legend = 10\n",
    "linewidth=2\n",
    "markersize=3"
   ]
  },
  {
   "cell_type": "markdown",
   "metadata": {},
   "source": [
    "Plots for state trajectory(Controler validation)"
   ]
  },
  {
   "cell_type": "code",
   "execution_count": 1452,
   "metadata": {},
   "outputs": [
    {
     "data": {
      "image/png": "[encoded data removed]",
      "text/plain": [
       "<Figure size 432x288 with 1 Axes>"
      ]
     },
     "metadata": {
      "needs_background": "light"
     },
     "output_type": "display_data"
    },
    {
     "data": {
      "image/png": "[encoded data removed]",
      "text/plain": [
       "<Figure size 432x288 with 1 Axes>"
      ]
     },
     "metadata": {
      "needs_background": "light"
     },
     "output_type": "display_data"
    }
   ],
   "source": [
    "# x_traj_0_whole = np.concatenate((x_traj_0[:, np.newaxis], x_traj_after_learning[0,:][:, np.newaxis]), axis=0)\n",
    "# x_traj_1_whole = np.concatenate((x_traj_1[:, np.newaxis], x_traj_after_learning[1,:][:, np.newaxis]), axis=0)\n",
    "time_max = 500\n",
    "plt.figure(0)\n",
    "plt.title('state trajectory')\n",
    "plt.plot(x_traj_after_learning[0,:], linestyle='-', linewidth=linewidth, color='blue', label=r'${x}_1$')\n",
    "#plt.plot(x_traj_1_whole, linestyle='-.', linewidth=linewidth, color='red', label=r'${x}_2$')\n",
    "plt.xlabel('sampling instant', fontsize=fontsize_xylabel)\n",
    "plt.tick_params(labelsize=fontsize_ticks)\n",
    "plt.legend(fontsize=fontsize_legend, loc=0, ncol=1)\n",
    "plt.annotate(\n",
    "        'controllers \\n update', ha='center', fontsize=fontsize_xylabel,\n",
    "        xy=(time_max, 0.007), arrowprops=dict(arrowstyle='->'), xytext=(time_max+20, 0.007))\n",
    "lgd = pylab.legend(fontsize=fontsize_legend,loc=3, mode=\"expand\", bbox_to_anchor=(0., 1.02, 1., .102), \n",
    "                   ncol=4, borderaxespad=0.)\n",
    "art = []\n",
    "art.append(lgd)\n",
    "#pylab.savefig(\"VI_x_traj.png\", additional_artists=art, bbox_inches=\"tight\",dpi=200)\n",
    "\n",
    "plt.figure(1)\n",
    "plt.title('control trajectory')\n",
    "#plt.plot(x_traj_0_whole, linestyle='-', linewidth=linewidth, color='blue', label=r'${x}_1$')\n",
    "plt.plot(u_traj_after_learning[0,:], linestyle='-.', linewidth=linewidth, color='red', label=r'${u}$')\n",
    "plt.xlabel('sampling instant', fontsize=fontsize_xylabel)\n",
    "plt.tick_params(labelsize=fontsize_ticks)\n",
    "plt.legend(fontsize=fontsize_legend, loc=0, ncol=1)\n",
    "plt.annotate(\n",
    "        'controllers \\n update', ha='center', fontsize=fontsize_xylabel,\n",
    "        xy=(time_max, -0.3), arrowprops=dict(arrowstyle='->'), xytext=(time_max+20, -0.3))\n",
    "lgd = pylab.legend(fontsize=fontsize_legend,loc=3, mode=\"expand\", bbox_to_anchor=(0., 1.02, 1., .102), \n",
    "                   ncol=4, borderaxespad=0.)\n",
    "art = []\n",
    "art.append(lgd)"
   ]
  },
  {
   "cell_type": "code",
   "execution_count": null,
   "metadata": {},
   "outputs": [],
   "source": []
  },
  {
   "cell_type": "code",
   "execution_count": null,
   "metadata": {},
   "outputs": [],
   "source": []
  }
 ],
 "metadata": {
  "kernelspec": {
   "display_name": "Python 3",
   "language": "python",
   "name": "python3"
  },
  "language_info": {
   "codemirror_mode": {
    "name": "ipython",
    "version": 3
   },
   "file_extension": ".py",
   "mimetype": "text/x-python",
   "name": "python",
   "nbconvert_exporter": "python",
   "pygments_lexer": "ipython3",
   "version": "3.8.5"
  }
 },
 "nbformat": 4,
 "nbformat_minor": 4
}
