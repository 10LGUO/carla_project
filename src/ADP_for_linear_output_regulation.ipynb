{
 "cells": [
  {
   "cell_type": "markdown",
   "metadata": {},
   "source": [
    "This example shows an application of adaptive dynamic programming (ADP) to a linear system with a constant disturbance term. By combining the output regulation technique, the ADP-based control algorithm can find the optimal control policy."
   ]
  },
  {
   "cell_type": "code",
   "execution_count": 1,
   "metadata": {},
   "outputs": [],
   "source": [
    "import numpy as np\n",
    "import matplotlib.pyplot as plt\n",
    "from scipy.linalg import inv\n",
    "from scipy.linalg import null_space\n",
    "from numpy.linalg import matrix_rank\n",
    "import scipy.io\n",
    "from scipy import signal\n",
    "from cvxopt import matrix, solvers\n",
    "import pylab\n",
    "import math\n",
    "import random\n",
    "from sklearn import linear_model\n",
    "solvers.options['show_progress'] = False"
   ]
  },
  {
   "cell_type": "markdown",
   "metadata": {},
   "source": [
    "Problem 1: \n",
    "Objective: find $X^*$ and $U^*$, minimizing  $Tr(X^T\\bar{Q}X + U^T\\bar{R}U)$ , subject to\n",
    "\n",
    "$$\\begin{equation*}\n",
    "\\begin{aligned}\n",
    "\\hat{E} = AX + BU + \\hat{D} \\quad (10)\\\\\n",
    "0 = CX + \\hat{F} \\quad (11) \\\\\n",
    "\\text{with }L = U + KX \\quad(12)\n",
    "\\end{aligned}\n",
    "\\end{equation*}$$\n",
    "\n",
    "\n",
    "Define a Sylvester map $S:\\mathbb{R}^{n\\times q_m} \\rightarrow \\mathbb{R}^{n\\times q_m}$ by:\n",
    "$$\\begin{equation*}\n",
    "S(X) = X\\hat{E} - AX, X\\in q_m \\quad(20)\n",
    "\\end{equation*}\n",
    "$$\n",
    "Pick constant matrix $X_1 \\in \\mathbb{R}^{n\\times q_m}$ such that $CX_1 + \\hat{F} = 0$, then select $ X_i \\in \\mathbb{R}^{n\\times q_m}$ for $ i = 2,...,h+1$ such that all vectors $vec(X_i)$ form a basis for $ker(I_{q_m} \\otimes C)$, where $ h = (n-r)q_m$\n",
    "\n",
    "where $m = 1, q = 1, q_m = 1, r = 2, n = 4, h = (n - r)q_m$\n",
    "\n",
    "\n",
    "Solve problem 2 first, get $K_{j^*}$. Then use $K_{j^*}$ to get $S(x_1) ... S(x_{h+1})$ with $j = j^*$ and $ B = P_{j^*}^{-1}K^T_{j^*}R $. \n",
    "With S and B we have M and N.\n",
    "Then solve problem 1 with cost defined by $\\bar{Q}$ and $\\bar{R}$ as a convex optimization problem."
   ]
  },
  {
   "cell_type": "code",
   "execution_count": 2,
   "metadata": {},
   "outputs": [],
   "source": [
    "#parameters for a passenger sedan\n",
    "vx = 10.0\n",
    "C_alphaf = 80000\n",
    "C_alphar = 80000\n",
    "m = 1573\n",
    "lf = 1.1\n",
    "lr = 1.58\n",
    "Iz = 2873\n",
    "\n",
    "A = np.array([[0.0, 1.0, 0.0, 0.0], \n",
    "              [0.0, -2*(C_alphaf+C_alphar)/(m*vx), 2*(C_alphaf+C_alphar)/m, -2*(C_alphaf*lf-C_alphar*lr)/(m*vx)],\n",
    "             [0.0, 0.0, 0.0, 1.0],\n",
    "             [0.0, -2*(C_alphaf*lf-C_alphar*lr)/(Iz*vx), 2*(C_alphaf*lf-C_alphar*lr)/Iz, -2*(C_alphaf*(lf**2)+C_alphar*(lr**2))/(Iz*vx)]\n",
    "             ])\n",
    "\n",
    "B = np.array([[0.0],\n",
    "              [2*C_alphaf/m],\n",
    "              [0],\n",
    "              [2*C_alphaf*lf/Iz]\n",
    "             ])\n",
    "\n",
    "C = np.array([[1.0, 0.0, 0.0, 0.0]])\n",
    "\n",
    "D = np.array([[0.0], \n",
    "              [-2*(C_alphaf*lf-C_alphar*lr)/(m*vx) - vx],\n",
    "             [0.0],\n",
    "             [-2*(C_alphaf*(lf**2)+C_alphar*(lr**2))/(Iz*vx)]\n",
    "             ])\n",
    "\n",
    "\n",
    "# parameters for matrix shape\n",
    "\n",
    "m = 1\n",
    "q = 1\n",
    "qm = 1\n",
    "r = 1\n",
    "n = 4\n",
    "h = (n-r)*qm\n",
    "Pi = 3.141\n",
    "dt = 1e-3\n",
    "\n",
    "\n",
    "# vehicle dynamics\n",
    "def env(x, u, dpsi):\n",
    "    x_ = x + dt*(A @ x + B @ u + D @ dpsi)\n",
    "#     x_ = x + dt*(A @ x + B @ u)\n",
    "    return x_\n",
    "\n",
    "\n",
    "# train over different curvature. (Truning radius for 1 to 20m)\n",
    "\n",
    "W = [round(1.0/r,3) for r in range(8, 21)] + [0.0]"
   ]
  },
  {
   "cell_type": "code",
   "execution_count": 3,
   "metadata": {},
   "outputs": [
    {
     "data": {
      "text/plain": [
       "array([[  0.        ],\n",
       "       [ -5.11760966],\n",
       "       [  0.        ],\n",
       "       [-20.64128089]])"
      ]
     },
     "execution_count": 3,
     "metadata": {},
     "output_type": "execute_result"
    }
   ],
   "source": [
    "D"
   ]
  },
  {
   "cell_type": "code",
   "execution_count": 4,
   "metadata": {},
   "outputs": [
    {
     "data": {
      "text/plain": [
       "[array([[0.],\n",
       "        [0.],\n",
       "        [0.],\n",
       "        [0.]]),\n",
       " array([[0.],\n",
       "        [1.],\n",
       "        [0.],\n",
       "        [0.]]),\n",
       " array([[0.],\n",
       "        [0.],\n",
       "        [1.],\n",
       "        [0.]]),\n",
       " array([[0.],\n",
       "        [0.],\n",
       "        [0.],\n",
       "        [1.]])]"
      ]
     },
     "execution_count": 4,
     "metadata": {},
     "output_type": "execute_result"
    }
   ],
   "source": [
    "# Select basis for ker(np.kron(Iqm, C)) as Xi, i = 1...h+1. X0 is a constant matrix s.t. CX0 = 0\n",
    "Iqm = np.array([[1]])\n",
    "ns_C = null_space(np.kron(Iqm, C))\n",
    "X = [np.zeros((n, qm)) for _ in range(h+1)]\n",
    "for i in range(1, h+1):\n",
    "    X[i] = ns_C[:,i-1:i]\n",
    "\n",
    "X"
   ]
  },
  {
   "cell_type": "code",
   "execution_count": 5,
   "metadata": {},
   "outputs": [],
   "source": [
    "#generate waypoints based on curvature\n",
    "def waypoints_generator(r):\n",
    "    res = []\n",
    "    return res\n",
    "\n",
    "#check if rank condition of X holds, according to (29)\n",
    "\n",
    "#X = [gamma_xi_xi, gamma_xi_u, gamma_xi_w]\n",
    "\n",
    "#"
   ]
  },
  {
   "cell_type": "markdown",
   "metadata": {},
   "source": [
    "Initial control policy"
   ]
  },
  {
   "cell_type": "code",
   "execution_count": 6,
   "metadata": {},
   "outputs": [],
   "source": [
    "# current best poles??\n",
    "Poles = np.array([-0.8,-0.88, -1.0, -1.1])\n",
    "K0 = signal.place_poles(A, B, Poles).gain_matrix"
   ]
  },
  {
   "cell_type": "markdown",
   "metadata": {},
   "source": [
    "Model-free method to solve the control problem"
   ]
  },
  {
   "cell_type": "code",
   "execution_count": 7,
   "metadata": {
    "scrolled": true
   },
   "outputs": [
    {
     "name": "stdout",
     "output_type": "stream",
     "text": [
      "Break at 14000\n",
      "18\n",
      "18\n",
      "18\n",
      "18\n"
     ]
    }
   ],
   "source": [
    "# Simulation\n",
    "memory_size = int(1e7)\n",
    "# variance of the exploration noise\n",
    "sigma = 0.1\n",
    "w0 = 1.0/8\n",
    "x_init = np.array([1.0, vx*math.tan(Pi/12) + vx*Pi/12, Pi/12, vx*w0])[:, np.newaxis]\n",
    "\n",
    "# memory matrices\n",
    "gamma_xx = [np.zeros((n*n, memory_size)) for _ in range(h+1)]\n",
    "gamma_xu = [np.zeros((n*m, memory_size)) for _ in range(h+1)]\n",
    "gamma_xw = [np.zeros((n*q, memory_size//q)) for _ in range(h+1)]\n",
    "delta_xx = [np.zeros((n*(n+1)//2, memory_size)) for _ in range(h+1)]\n",
    "# initialize u\n",
    "u = -K0@x_init\n",
    "\n",
    "# vecv operation\n",
    "def vecv(x):\n",
    "    l = len(x)\n",
    "    a = np.arange(l*l).reshape(l, l)\n",
    "    index_vecv = np.triu_indices(l)\n",
    "    tmp = a[index_vecv]\n",
    "    kron_product = np.kron(x, x)\n",
    "    result = kron_product[tmp]\n",
    "    return result\n",
    "\n",
    "# vecs operation\n",
    "def vecs(c):\n",
    "    l = c.shape[0]\n",
    "    a = np.arange(l*l).reshape(l, l)\n",
    "    index_vecs1 = np.triu_indices(l)\n",
    "    index_vecs2 = np.triu_indices(l,1)\n",
    "    c[index_vecs2] *= 2\n",
    "    return c[index_vecs1]\n",
    "\n",
    "# collect data for gamma_xx, gamma_xu, gamma_xw and delta_xx\n",
    "step = 0\n",
    "x = x_init\n",
    "while True:\n",
    "    for w in W:\n",
    "        w = np.array([w])[:, np.newaxis]\n",
    "        for j in range(1000):\n",
    "            noise = np.random.normal(np.array([0]), np.array([sigma]))[:, np.newaxis]\n",
    "            u = -K0@x + noise\n",
    "            newx = env(x, u, vx*w)\n",
    "            for i in range(h+1):\n",
    "                x_bar = x - (X[i]@w)\n",
    "                newx_bar = newx - (X[i]@w)\n",
    "#                 print(gamma_xx[i][:,step].shape)\n",
    "                gamma_xx[i][:,step:step+1] = dt * np.kron(x_bar, x_bar)\n",
    "                gamma_xu[i][:,step:step+1] = dt * np.kron(x_bar, u)\n",
    "                gamma_xw[i][:,step:step+1] = dt * np.kron(x_bar, w)\n",
    "                delta_xx[i][:,step:step+1] = vecv(newx_bar) - vecv(x_bar)\n",
    "            x = newx\n",
    "            step += 1\n",
    "    \n",
    "    # check if meet rank condition, should be n(n+1)/2 + (m+qm)n = 18\n",
    "    meet_rank_condition = True\n",
    "    for i in range(h+1):\n",
    "        if matrix_rank(np.hstack((gamma_xx[i][:, :step].T, gamma_xu[i][:, :step].T, gamma_xw[i][:, :step].T))) < 18:\n",
    "            meet_rank_condition = False \n",
    "    \n",
    "    if meet_rank_condition:\n",
    "        print(\"Break at \" + str(step))\n",
    "        for i in range(h+1):\n",
    "            print(matrix_rank(np.hstack((gamma_xx[i][:, :step].T, gamma_xu[i][:, :step].T, gamma_xw[i][:, :step].T))))\n",
    "        break\n",
    "    else: print(\"Exploring: \" + str(step))\n",
    "        \n",
    "for i in range(h+1):\n",
    "    gamma_xx[i] = gamma_xx[i][:, :step]\n",
    "    gamma_xu[i] = gamma_xu[i][:, :step]\n",
    "    gamma_xw[i] = gamma_xw[i][:, :step]\n",
    "    delta_xx[i] = delta_xx[i][:, :step]\n",
    "\n",
    "memory_size = step"
   ]
  },
  {
   "cell_type": "code",
   "execution_count": 690,
   "metadata": {},
   "outputs": [],
   "source": [
    "## cost (reward) design\n",
    "Q = np.array([[1e6, 0, 0, 0],\n",
    "              [0, 1e3, 0, 0],\n",
    "             [0, 0, 10, 0],\n",
    "             [0, 0, 0, 10]])\n",
    "R = np.array([[10]])\n",
    "\n",
    "Q_bar = np.array([[1e6, 0, 0, 0],\n",
    "              [0, 1e3, 0, 0],\n",
    "             [0, 0, 10, 0],\n",
    "             [0, 0, 0, 10]])\n",
    "R_bar = np.array([[1]])\n",
    "\n",
    "\n",
    "# Q = np.array([[1e3, 0, 0, 0],\n",
    "#               [0, 10, 0, 0],\n",
    "#              [0, 0, 1, 0],\n",
    "#              [0, 0, 0, 1]])\n",
    "# R = np.array([[1]])\n",
    "\n",
    "# Q_bar = np.array([[1e6, 0, 0, 0],\n",
    "#               [0, 1e3, 0, 0],\n",
    "#              [0, 0, 10, 0],\n",
    "#              [0, 0, 0, 10]])\n",
    "# R_bar = np.array([[1]])"
   ]
  },
  {
   "cell_type": "code",
   "execution_count": 691,
   "metadata": {},
   "outputs": [],
   "source": [
    "Psi = [np.zeros((memory_size,18)) for _ in range(h+1)]\n",
    "Phi = [np.zeros((memory_size,1)) for _ in range(h+1)]\n",
    "In = np.eye(4)\n",
    "def vec(c):\n",
    "    return c.flatten('F').T[:,np.newaxis]\n",
    "\n",
    "def Psi_update(i, K_):\n",
    "    Psi[i] = np.hstack((delta_xx[i].T, -2*gamma_xx[i].T@np.kron(In, K_.T@R)-2*gamma_xu[i].T@np.kron(In,R), -2*gamma_xw[i].T))\n",
    "\n",
    "def Phi_update(i, K_):\n",
    "    Phi[i] = -gamma_xx[i].T@vec(Q+K_.T@R@K_)\n",
    "\n",
    "# Initialize Psi and Phi\n",
    "for i in range(h+1):\n",
    "    Psi_update(i, K0)\n",
    "    Phi_update(i, K0)\n",
    "    "
   ]
  },
  {
   "cell_type": "code",
   "execution_count": 692,
   "metadata": {},
   "outputs": [
    {
     "name": "stdout",
     "output_type": "stream",
     "text": [
      "Break at j = 40, i = 0\n",
      "[[-991.2950967 ]\n",
      " [ -44.79960155]\n",
      " [  88.22388068]\n",
      " [ -25.9450155 ]]\n",
      "Break at j = 43, i = 1\n",
      "[[ 3.14898060e+04]\n",
      " [ 1.82727018e+00]\n",
      " [ 6.26806869e+01]\n",
      " [-2.87120337e+01]]\n",
      "Break at j = 43, i = 2\n",
      "[[5852.00265883]\n",
      " [ 176.017383  ]\n",
      " [ 129.02165562]\n",
      " [ -55.84094987]]\n",
      "Break at j = 37, i = 3\n",
      "[[-756.9331958 ]\n",
      " [ -37.31457586]\n",
      " [ 125.5167148 ]\n",
      " [ -30.51463907]]\n"
     ]
    }
   ],
   "source": [
    "## algorithm begins here\n",
    "iter_max = 100\n",
    "# size_XY = time_max\n",
    "# size_batch = 1\n",
    "# size_memory = memory.shape[0]\n",
    "\n",
    "# Solve Pj, Kj+1 until norm(Pj - Pj-1) < 1e-2\n",
    "K = [np.zeros((m,n))for _ in range(h+1)]\n",
    "P = [np.zeros((n,n)) for _ in range(h+1)]\n",
    "Pstar = np.zeros((n,n))\n",
    "Kstar = np.zeros((m,n))\n",
    "Vstar = [np.zeros((n, 1)) for _ in range(h+1)]\n",
    "errP = np.zeros((h+1,iter_max))\n",
    "errK = np.zeros((h+1,iter_max))\n",
    "clf = linear_model.LinearRegression()\n",
    "P_vecs_size = n*(n+1)//2\n",
    "for i in range(h+1):\n",
    "    err_P = float('inf')\n",
    "    Ppre = np.array([])\n",
    "    Kpre = np.array([])\n",
    "    for j in range(iter_max):\n",
    "#         pp = scipy.linalg.lstsq(Psi[i], Phi[i])[0]\n",
    "        clf.fit(Psi[i], Phi[i])\n",
    "        pp = clf.coef_.T\n",
    "        P_vecs = pp[:P_vecs_size, :]\n",
    "        K_vec = pp[P_vecs_size: P_vecs_size+n, :]\n",
    "        K[i] = K_vec.T \n",
    "        temp5 = np.zeros((n,n))\n",
    "        l = 0\n",
    "        for t1 in range(n):\n",
    "            for t2 in range(t1, n):\n",
    "                temp5[t1, t2] = pp[l]\n",
    "                l = l+1\n",
    "\n",
    "        P[i] = (temp5 + temp5.T)/2.0\n",
    "        if Ppre.any():\n",
    "            err_P = np.linalg.norm(P[i] - Ppre)\n",
    "            errP[i,j-1] = err_P\n",
    "        \n",
    "        Ppre = P[i]\n",
    "        if Kpre.any():\n",
    "            err_K = np.linalg.norm(K[i] - Kpre)\n",
    "            errK[i,j-1] = err_K\n",
    "        \n",
    "        Kpre = K[i]\n",
    "        Psi_update(i, K[i])\n",
    "        Phi_update(i, K[i])\n",
    "        \n",
    "        if (err_P < 1e-2):\n",
    "            Pstar = P[i]\n",
    "            Kstar = K[i]\n",
    "            Vstar[i] = pp[P_vecs_size+n:,:] \n",
    "            print(\"Break at j = \" + str(j) + \", i = \" + str(i))\n",
    "#             print(K[i])\n",
    "            print(pp[P_vecs_size+n:,:])\n",
    "            break\n",
    "            \n",
    "#         if j == iter_max-1:\n",
    "#             Pstar = P[i]\n",
    "#             Kstar = K[i]\n",
    "#             Vstar[i] = pp[P_vecs_size+n:,:] \n",
    "            "
   ]
  },
  {
   "cell_type": "markdown",
   "metadata": {},
   "source": [
    "Plots show convergence of K and P values"
   ]
  },
  {
   "cell_type": "code",
   "execution_count": 693,
   "metadata": {},
   "outputs": [],
   "source": [
    "##plots \n",
    "fontsize_xylabel = 18\n",
    "fontsize_ticks = 10\n",
    "fontsize_legend = 16\n",
    "linewidth=1\n",
    "markersize=3"
   ]
  },
  {
   "cell_type": "code",
   "execution_count": 694,
   "metadata": {},
   "outputs": [
    {
     "data": {
      "text/plain": [
       "<matplotlib.legend.Legend at 0x7f6b3bf706d0>"
      ]
     },
     "execution_count": 694,
     "metadata": {},
     "output_type": "execute_result"
    },
    {
     "data": {
      "image/png": "[encoded data removed]",
      "text/plain": [
       "<Figure size 432x288 with 2 Axes>"
      ]
     },
     "metadata": {
      "needs_background": "light"
     },
     "output_type": "display_data"
    }
   ],
   "source": [
    "try:\n",
    "    errP = np.trim_zeros(errP)\n",
    "except:\n",
    "    pass\n",
    "\n",
    "try:\n",
    "    errK = np.trim_zeros(errK)\n",
    "except:\n",
    "    pass\n",
    "\n",
    "plt.figure(5)\n",
    "plt.subplot(211)\n",
    "plt.ticklabel_format(style='sci', axis='y', scilimits=(0,0))\n",
    "plt.plot(errP[3,1:],'bs--',linewidth=linewidth, label=r'$|P_{j}-P_{j-1}|$', markersize=markersize)\n",
    "plt.tick_params(\n",
    "    axis='x',          # changes apply to the x-axis\n",
    "    which='both',      # both major and minor ticks are affected\n",
    "    bottom=False,      # ticks along the bottom edge are off\n",
    "    top=False,         # ticks along the top edge are off\n",
    "    labelbottom=False) # labels along the bottom edge are off\n",
    "plt.legend(fontsize=fontsize_legend, loc=0, ncol=1)\n",
    "plt.subplot(212)\n",
    "plt.ticklabel_format(style='sci', axis='y', scilimits=(0,0))\n",
    "plt.plot(errK[3,:],'bs--',linewidth=linewidth, label=r'$|K_{j}-K_{j-1}|$', markersize=markersize)\n",
    "plt.xlabel('iteration', fontsize=fontsize_xylabel)\n",
    "plt.tick_params(labelsize=fontsize_ticks)\n",
    "plt.legend(fontsize=fontsize_legend, loc=0, ncol=1)"
   ]
  },
  {
   "cell_type": "markdown",
   "metadata": {},
   "source": [
    "Solve L with ADP (system unknown)"
   ]
  },
  {
   "cell_type": "code",
   "execution_count": 695,
   "metadata": {
    "scrolled": true
   },
   "outputs": [
    {
     "name": "stdout",
     "output_type": "stream",
     "text": [
      "Problem\n",
      "  Name                   :                 \n",
      "  Objective sense        : min             \n",
      "  Type                   : QO (quadratic optimization problem)\n",
      "  Constraints            : 10              \n",
      "  Cones                  : 0               \n",
      "  Scalar variables       : 5               \n",
      "  Matrix variables       : 0               \n",
      "  Integer variables      : 0               \n",
      "\n",
      "Optimizer started.\n",
      "Quadratic to conic reformulation started.\n",
      "Quadratic to conic reformulation terminated. Time: 0.00    \n",
      "Presolve started.\n",
      "Linear dependency checker started.\n",
      "Linear dependency checker terminated.\n",
      "Eliminator started.\n",
      "Freed constraints in eliminator : 0\n",
      "Eliminator terminated.\n",
      "Eliminator - tries                  : 1                 time                   : 0.00            \n",
      "Lin. dep.  - tries                  : 1                 time                   : 0.00            \n",
      "Lin. dep.  - number                 : 0               \n",
      "Presolve terminated. Time: 0.00    \n",
      "Problem\n",
      "  Name                   :                 \n",
      "  Objective sense        : min             \n",
      "  Type                   : QO (quadratic optimization problem)\n",
      "  Constraints            : 10              \n",
      "  Cones                  : 0               \n",
      "  Scalar variables       : 5               \n",
      "  Matrix variables       : 0               \n",
      "  Integer variables      : 0               \n",
      "\n",
      "Optimizer  - threads                : 8               \n",
      "Optimizer  - solved problem         : the primal      \n",
      "Optimizer  - Constraints            : 4\n",
      "Optimizer  - Cones                  : 1\n",
      "Optimizer  - Scalar variables       : 5                 conic                  : 5               \n",
      "Optimizer  - Semi-definite variables: 0                 scalarized             : 0               \n",
      "Factor     - setup time             : 0.00              dense det. time        : 0.00            \n",
      "Factor     - ML order time          : 0.00              GP order time          : 0.00            \n",
      "Factor     - nonzeros before factor : 10                after factor           : 10              \n",
      "Factor     - dense dim.             : 0                 flops                  : 1.16e+02        \n",
      "ITE PFEAS    DFEAS    GFEAS    PRSTATUS   POBJ              DOBJ              MU       TIME  \n",
      "0   3.3e+03  0.0e+00  2.0e+00  0.00e+00   5.000000000e-01   0.000000000e+00   1.0e+00  0.01  \n",
      "1   2.7e+00  4.1e-13  5.8e-02  -1.00e+00  7.113056672e+05   2.840454228e+06   8.4e-04  0.02  \n",
      "2   8.2e-01  1.2e-13  2.0e-02  -7.14e-01  4.496455002e+06   1.030980064e+07   2.5e-04  0.02  \n",
      "3   7.2e-02  1.1e-14  1.5e-04  8.35e-01   1.037331715e+07   1.042221445e+07   2.2e-05  0.02  \n",
      "4   2.0e-05  1.3e-17  1.7e-09  9.15e-01   1.136634007e+07   1.136644087e+07   6.0e-09  0.02  \n",
      "5   1.2e-10  6.6e-17  1.1e-14  1.00e+00   1.136657732e+07   1.136657732e+07   3.8e-14  0.02  \n",
      "Optimizer terminated. Time: 0.03    \n",
      "\n",
      "\n",
      "Interior-point solution summary\n",
      "  Problem status  : PRIMAL_AND_DUAL_FEASIBLE\n",
      "  Solution status : OPTIMAL\n",
      "  Primal.  obj: 1.1366577320e+07    nrm: 1e+04    Viol.  con: 1e-06    var: 0e+00  \n",
      "  Dual.    obj: 1.1366577323e+07    nrm: 1e+05    Viol.  con: 0e+00    var: 9e-10  \n"
     ]
    }
   ],
   "source": [
    "# Repeat solving S(Xi) from (36): Learnt S\n",
    "S = [np.zeros((n,qm)) for _ in range(h+1)]\n",
    "D_hat = (Vstar[0].T @ scipy.linalg.inv((Pstar))).T\n",
    "for i in range(1, h+1):\n",
    "    S[i] = ((D*vx).T - (Vstar[i].T @ scipy.linalg.inv((Pstar)))).T\n",
    "\n",
    "# Learnt B\n",
    "B_ = scipy.linalg.inv((Pstar))@Kstar.T@R\n",
    "\n",
    "## Get M and N:\n",
    "# Get Alpha and b\n",
    "l_Alpha = h+n*qm+m*qm \n",
    "Alpha = np.zeros((n*2, l_Alpha))\n",
    "b = np.zeros((n*2,1))\n",
    "\n",
    "for i in range(1,h+1):\n",
    "    Alpha[:n, i-1] = vec(S[i]).squeeze()\n",
    "    Alpha[n:, i-1] = vec(X[i]).squeeze()\n",
    "    \n",
    "Alpha[:qm*n, -1] = np.kron(-np.eye(qm), B).squeeze()\n",
    "Alpha[n*qm:, h:h+n*qm] = -np.eye(n*qm)\n",
    "b = np.vstack((vec(-S[0] + D*vx), -vec(X[0])))\n",
    "\n",
    "A_11 = Alpha[:2*n-h, :h]\n",
    "A_21 = Alpha[2*n-h:, :h]\n",
    "A_12 = Alpha[:2*n-h, h:]\n",
    "A_22 = Alpha[2*n-h:, h:]\n",
    "\n",
    "b1 = b[h:]\n",
    "b2 = b[:h]\n",
    "\n",
    "M = -(A_11@np.linalg.inv((A_21))@A_22) + A_12\n",
    "N = -(A_11@np.linalg.inv((A_21))@b2) + b1\n",
    "\n",
    "# Get Xstar and Ustar:\n",
    "\n",
    "Temp = np.zeros((n*qm+m*qm, n*qm+m*qm))\n",
    "Temp[:n*qm,:n*qm] = np.kron(np.eye(qm), Q_bar)\n",
    "Temp[n*qm:,n*qm:] = np.kron(np.eye(qm), R_bar)\n",
    "\n",
    "#cvxopt.solvers.coneqp(P, q[, G, h[, dims[, A, b[, initvals[, kktsolver]]]]])\n",
    "H = np.zeros((n*qm+m*qm, 1))\n",
    "G = np.zeros((n*qm+m*qm, n*qm+m*qm))\n",
    "sol = solvers.qp(0.5*matrix(Temp), matrix(np.zeros((n*qm+m*qm, 1))), matrix(G), matrix(H), matrix(M), matrix(N), solver = 'mosek')\n",
    "Xstar = sol['x'][:n*qm]\n",
    "Ustar = sol['x'][n*qm:]\n",
    "Lstar = Ustar + Kstar@Xstar"
   ]
  },
  {
   "cell_type": "code",
   "execution_count": 696,
   "metadata": {},
   "outputs": [
    {
     "data": {
      "text/plain": [
       "array([[  0.        ],\n",
       "       [101.71646535],\n",
       "       [  0.        ],\n",
       "       [ 61.26000696]])"
      ]
     },
     "execution_count": 696,
     "metadata": {},
     "output_type": "execute_result"
    }
   ],
   "source": [
    "B"
   ]
  },
  {
   "cell_type": "code",
   "execution_count": 697,
   "metadata": {},
   "outputs": [
    {
     "data": {
      "text/plain": [
       "array([[-1.28147724e-02],\n",
       "       [ 1.11149554e+02],\n",
       "       [-2.44963427e+00],\n",
       "       [ 2.72290392e+01]])"
      ]
     },
     "execution_count": 697,
     "metadata": {},
     "output_type": "execute_result"
    }
   ],
   "source": [
    "B_"
   ]
  },
  {
   "cell_type": "code",
   "execution_count": 698,
   "metadata": {},
   "outputs": [
    {
     "data": {
      "text/plain": [
       "array([[   0.        ],\n",
       "       [ -51.17609663],\n",
       "       [   0.        ],\n",
       "       [-206.41280891]])"
      ]
     },
     "execution_count": 698,
     "metadata": {},
     "output_type": "execute_result"
    }
   ],
   "source": [
    "D*vx"
   ]
  },
  {
   "cell_type": "code",
   "execution_count": 699,
   "metadata": {},
   "outputs": [
    {
     "data": {
      "text/plain": [
       "array([[ 8.37258268e-03],\n",
       "       [-5.67027621e+01],\n",
       "       [ 1.84745577e+00],\n",
       "       [-1.77783676e+02]])"
      ]
     },
     "execution_count": 699,
     "metadata": {},
     "output_type": "execute_result"
    }
   ],
   "source": [
    "D_hat"
   ]
  },
  {
   "cell_type": "code",
   "execution_count": 700,
   "metadata": {
    "scrolled": false
   },
   "outputs": [
    {
     "name": "stdout",
     "output_type": "stream",
     "text": [
      "[ 0.00e+00]\n",
      "[ 2.13e+02]\n",
      "[ 7.14e+01]\n",
      "[ 2.20e+01]\n",
      "\n"
     ]
    }
   ],
   "source": [
    "print(Xstar)"
   ]
  },
  {
   "cell_type": "markdown",
   "metadata": {},
   "source": [
    "array([[  208.23291863],\n",
    "       [ 9396.01435383],\n",
    "       [  -31.12640214],\n",
    "       [-2988.05728846]])\n",
    "       \n",
    "array([[  152.56568905],\n",
    "       [12051.9603876 ],\n",
    "       [  -30.44196653],\n",
    "       [-2256.42893834]])\n",
    "       \n",
    "array([[  206.28416249],\n",
    "       [10348.20072599],\n",
    "       [  -38.34748819],\n",
    "       [-2439.14009532]])\n",
    "       \n",
    "array([[  206.60023312],\n",
    "       [ 3343.9963577 ],\n",
    "       [  -23.78186712],\n",
    "       [-6437.03759571]])\n",
    "       \n",
    "       \n",
    "array([[  206.59211764],\n",
    "       [ 8293.11953812],\n",
    "       [  -32.8943272 ],\n",
    "       [-3580.09847298]])\n",
    "       \n",
    "array([[  206.61907187],\n",
    "       [ 8261.39016845],\n",
    "       [ -123.25163866],\n",
    "       [-2102.69901973]])\n",
    "\n",
    "array([[  206.61316369],\n",
    "       [ 8340.62645303],\n",
    "       [  -70.01840477],\n",
    "       [-4015.38990505]])\n",
    "\n",
    "array([[  206.59211764],\n",
    "       [ 8293.11953812],\n",
    "       [  -32.8943272 ],\n",
    "       [-3580.09847298]])\n",
    "       \n",
    "array([[  206.61646713],\n",
    "       [ 3699.51640817],\n",
    "       [  -25.22949203],\n",
    "       [-6229.15154006]])\n",
    "       \n",
    "array([[  213.98571651],\n",
    "       [ 1679.80860586],\n",
    "       [  -10.90948974],\n",
    "       [-7208.65828047]])"
   ]
  },
  {
   "cell_type": "markdown",
   "metadata": {},
   "source": [
    "Lstar with known system:"
   ]
  },
  {
   "cell_type": "code",
   "execution_count": 701,
   "metadata": {
    "scrolled": true
   },
   "outputs": [
    {
     "data": {
      "text/plain": [
       "array([[  213.08610724],\n",
       "       [ 3197.27726717],\n",
       "       [   22.01898924],\n",
       "       [-6244.52129856]])"
      ]
     },
     "execution_count": 701,
     "metadata": {},
     "output_type": "execute_result"
    }
   ],
   "source": [
    "A@Xstar + B@Ustar + D*vx"
   ]
  },
  {
   "cell_type": "code",
   "execution_count": 723,
   "metadata": {},
   "outputs": [
    {
     "name": "stdout",
     "output_type": "stream",
     "text": [
      "0.0\n",
      "0.125\n"
     ]
    }
   ],
   "source": [
    "#Test ADP contoller\n",
    "time_simulation_adp = 1000\n",
    "x_traj_after_learning = np.zeros((4, time_simulation_adp))\n",
    "u_traj_after_learning = np.zeros((1, time_simulation_adp))\n",
    "#x = np.random.normal(np.array([0.5, 0.5]), np.array([0.0, 0.0]))[:, np.newaxis]\n",
    "# random.shuffle(W)\n",
    "x_ = np.array([0.1, vx*math.tan(Pi/12) + vx*Pi/12, Pi/12, vx*W[0]])[:, np.newaxis]\n",
    "i = 0\n",
    "Wt = [0.0, 0.125]\n",
    "for w in Wt:\n",
    "    print(w)\n",
    "    for _ in range(time_simulation_adp//len(Wt)):\n",
    "        x = x_\n",
    "        u = -Kstar @ x\n",
    "        x_ = env(x, u, vx*np.array([[w]]))\n",
    "        x_traj_after_learning[:, i] = x_.reshape((4))\n",
    "        u_traj_after_learning[:, i] = u.reshape((1))\n",
    "        i += 1"
   ]
  },
  {
   "cell_type": "code",
   "execution_count": 724,
   "metadata": {},
   "outputs": [
    {
     "data": {
      "text/plain": [
       "[0.059,\n",
       " 0.053,\n",
       " 0.125,\n",
       " 0.056,\n",
       " 0.1,\n",
       " 0.111,\n",
       " 0.077,\n",
       " 0.071,\n",
       " 0.0,\n",
       " 0.067,\n",
       " 0.062,\n",
       " 0.091,\n",
       " 0.083,\n",
       " 0.05]"
      ]
     },
     "execution_count": 724,
     "metadata": {},
     "output_type": "execute_result"
    }
   ],
   "source": [
    "W"
   ]
  },
  {
   "cell_type": "code",
   "execution_count": 725,
   "metadata": {},
   "outputs": [],
   "source": [
    "##plots \n",
    "fontsize_xylabel = 12\n",
    "fontsize_ticks = 12\n",
    "fontsize_legend = 10\n",
    "linewidth=2\n",
    "markersize=3"
   ]
  },
  {
   "cell_type": "markdown",
   "metadata": {},
   "source": [
    "Plots for state trajectory(Controler validation)"
   ]
  },
  {
   "cell_type": "code",
   "execution_count": 726,
   "metadata": {},
   "outputs": [
    {
     "data": {
      "image/png": "[encoded data removed]",
      "text/plain": [
       "<Figure size 432x288 with 1 Axes>"
      ]
     },
     "metadata": {
      "needs_background": "light"
     },
     "output_type": "display_data"
    },
    {
     "data": {
      "image/png": "[encoded data removed]",
      "text/plain": [
       "<Figure size 432x288 with 1 Axes>"
      ]
     },
     "metadata": {
      "needs_background": "light"
     },
     "output_type": "display_data"
    }
   ],
   "source": [
    "# x_traj_0_whole = np.concatenate((x_traj_0[:, np.newaxis], x_traj_after_learning[0,:][:, np.newaxis]), axis=0)\n",
    "# x_traj_1_whole = np.concatenate((x_traj_1[:, np.newaxis], x_traj_after_learning[1,:][:, np.newaxis]), axis=0)\n",
    "time_max = 500\n",
    "plt.figure(0)\n",
    "plt.title('state trajectory')\n",
    "plt.plot(x_traj_after_learning[0,:], linestyle='-', linewidth=linewidth, color='blue', label=r'${x}_1$')\n",
    "#plt.plot(x_traj_1_whole, linestyle='-.', linewidth=linewidth, color='red', label=r'${x}_2$')\n",
    "plt.xlabel('sampling instant', fontsize=fontsize_xylabel)\n",
    "plt.tick_params(labelsize=fontsize_ticks)\n",
    "plt.legend(fontsize=fontsize_legend, loc=0, ncol=1)\n",
    "# plt.annotate(\n",
    "#         'controllers \\n update', ha='center', fontsize=fontsize_xylabel,\n",
    "#         xy=(time_max, 0.007), arrowprops=dict(arrowstyle='->'), xytext=(time_max+20, 0.007))\n",
    "lgd = pylab.legend(fontsize=fontsize_legend,loc=3, mode=\"expand\", bbox_to_anchor=(0., 1.02, 1., .102), \n",
    "                   ncol=4, borderaxespad=0.)\n",
    "art = []\n",
    "art.append(lgd)\n",
    "#pylab.savefig(\"VI_x_traj.png\", additional_artists=art, bbox_inches=\"tight\",dpi=200)\n",
    "\n",
    "plt.figure(1)\n",
    "plt.title('control trajectory')\n",
    "#plt.plot(x_traj_0_whole, linestyle='-', linewidth=linewidth, color='blue', label=r'${x}_1$')\n",
    "plt.plot(u_traj_after_learning[0,:], linestyle='-.', linewidth=linewidth, color='red', label=r'${u}$')\n",
    "plt.xlabel('sampling instant', fontsize=fontsize_xylabel)\n",
    "plt.tick_params(labelsize=fontsize_ticks)\n",
    "plt.legend(fontsize=fontsize_legend, loc=0, ncol=1)\n",
    "# plt.annotate(\n",
    "#         'controllers \\n update', ha='center', fontsize=fontsize_xylabel,\n",
    "#         xy=(time_max, -0.3), arrowprops=dict(arrowstyle='->'), xytext=(time_max+20, -0.3))\n",
    "lgd = pylab.legend(fontsize=fontsize_legend,loc=3, mode=\"expand\", bbox_to_anchor=(0., 1.02, 1., .102), \n",
    "                   ncol=4, borderaxespad=0.)\n",
    "art = []\n",
    "art.append(lgd)"
   ]
  },
  {
   "cell_type": "code",
   "execution_count": null,
   "metadata": {},
   "outputs": [],
   "source": []
  },
  {
   "cell_type": "code",
   "execution_count": null,
   "metadata": {},
   "outputs": [],
   "source": []
  }
 ],
 "metadata": {
  "kernelspec": {
   "display_name": "Python 3",
   "language": "python",
   "name": "python3"
  },
  "language_info": {
   "codemirror_mode": {
    "name": "ipython",
    "version": 3
   },
   "file_extension": ".py",
   "mimetype": "text/x-python",
   "name": "python",
   "nbconvert_exporter": "python",
   "pygments_lexer": "ipython3",
   "version": "3.8.5"
  }
 },
 "nbformat": 4,
 "nbformat_minor": 4
}
