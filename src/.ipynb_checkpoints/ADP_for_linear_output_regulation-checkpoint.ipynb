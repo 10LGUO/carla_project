{
 "cells": [
  {
   "cell_type": "markdown",
   "metadata": {},
   "source": [
    "This example shows an application of adaptive dynamic programming (ADP) to a linear system with a constant disturbance term. By combining the output regulation technique, the ADP-based control algorithm can find the optimal control policy."
   ]
  },
  {
   "cell_type": "code",
   "execution_count": 1,
   "metadata": {},
   "outputs": [],
   "source": [
    "import numpy as np\n",
    "import matplotlib.pyplot as plt\n",
    "from scipy.linalg import inv\n",
    "from scipy.linalg import null_space\n",
    "from numpy.linalg import matrix_rank\n",
    "import scipy.io\n",
    "from scipy import signal\n",
    "from cvxopt import matrix, solvers\n",
    "import pylab\n",
    "import math"
   ]
  },
  {
   "cell_type": "markdown",
   "metadata": {},
   "source": [
    "Problem 1: \n",
    "Objective: find $X^*$ and $U^*$, minimizing  $Tr(X^T\\bar{Q}X + U^T\\bar{R}U)$ , subject to\n",
    "\n",
    "$$\\begin{equation*}\n",
    "\\begin{aligned}\n",
    "\\hat{E} = AX + BU + \\hat{D} \\quad (10)\\\\\n",
    "0 = CX + \\hat{F} \\quad (11) \\\\\n",
    "\\text{with }L = U + KX \\quad(12)\n",
    "\\end{aligned}\n",
    "\\end{equation*}$$\n",
    "\n",
    "\n",
    "Define a Sylvester map $S:\\mathbb{R}^{n\\times q_m} \\rightarrow \\mathbb{R}^{n\\times q_m}$ by:\n",
    "$$\\begin{equation*}\n",
    "S(X) = X\\hat{E} - AX, X\\in q_m \\quad(20)\n",
    "\\end{equation*}\n",
    "$$\n",
    "Pick constant matrix $X_1 \\in \\mathbb{R}^{n\\times q_m}$ such that $CX_1 + \\hat{F} = 0$, then select $ X_i \\in \\mathbb{R}^{n\\times q_m}$ for $ i = 2,...,h+1$ such that all vectors $vec(X_i)$ form a basis for $ker(I_{q_m} \\otimes C)$, where $ h = (n-r)q_m$\n",
    "\n",
    "where $m = 1, q = 1, q_m = 1, r = 2, n = 4, h = (n - r)q_m$\n",
    "\n",
    "\n",
    "Solve problem 2 first, get $K_{j^*}$. Then use $K_{j^*}$ to get $S(x_1) ... S(x_{h+1})$ with $j = j^*$ and $ B = P_{j^*}^{-1}K^T_{j^*}R $. \n",
    "With S and B we have M and N.\n",
    "Then solve problem 1 with cost defined by $\\bar{Q}$ and $\\bar{R}$ as a convex optimization problem."
   ]
  },
  {
   "cell_type": "code",
   "execution_count": 119,
   "metadata": {},
   "outputs": [],
   "source": [
    "#parameters for a passenger sedan\n",
    "vx = 10.0\n",
    "C_alphaf = 80000\n",
    "C_alphar = 80000\n",
    "m = 1573\n",
    "lf = 1.1\n",
    "lr = 1.58\n",
    "Iz = 2873\n",
    "\n",
    "A = np.array([[0.0, 1.0, 0.0, 0.0], \n",
    "              [0.0, -2*(C_alphaf+C_alphar)/(m*vx), 2*(C_alphaf+C_alphar)/m, -2*(C_alphaf*lf-C_alphar*lr)/(m*vx)],\n",
    "             [0.0, 0.0, 0.0, 1.0],\n",
    "             [0.0, -2*(C_alphaf*lf-C_alphar*lr)/(Iz*vx), 2*(C_alphaf*lf-C_alphar*lr)/Iz, -2*(C_alphaf*(lf**2)+C_alphar*(lr**2))/(Iz*vx)]\n",
    "             ])\n",
    "\n",
    "B = np.array([[0.0],\n",
    "              [2*C_alphaf/m],\n",
    "              [0],\n",
    "              [2*C_alphaf*lf/Iz]\n",
    "             ])\n",
    "\n",
    "C = np.array([[1.0, 0.0, 0.0, 0.0]])\n",
    "\n",
    "D = np.array([[0.0], \n",
    "              [-2*(C_alphaf*lf-C_alphar*lr)/(m*vx) - vx],\n",
    "             [0.0],\n",
    "             [-2*(C_alphaf*(lf**2)+C_alphar*(lr**2))/(Iz*vx)]\n",
    "             ])\n",
    "\n",
    "\n",
    "# parameters for matrix shape\n",
    "\n",
    "m = 1\n",
    "q = 1\n",
    "qm = 1\n",
    "r = 1\n",
    "n = 4\n",
    "h = (n-r)*qm\n",
    "Pi = 3.14\n",
    "dt = 1e-3\n",
    "\n",
    "\n",
    "# vehicle dynamics\n",
    "def env(x, u, psi):\n",
    "    x_ = x + dt*(A @ x + B @ u + D @ psi)\n",
    "#     x_ = x + dt*(A @ x + B @ u)\n",
    "    return x_\n",
    "\n",
    "\n",
    "# train over different curvature. (Truning radius for 1 to 20m)\n",
    "\n",
    "W = [round(1.0/r,3) for r in range(8, 21)] + [0.0]\n",
    "\n",
    "## cost (reward) design\n",
    "Q = np.array([[1e5, 0, 0, 0],\n",
    "              [0, 1, 0, 0],\n",
    "             [0, 0, 1, 0],\n",
    "             [0, 0, 0, 1]])\n",
    "R = np.array([[1]])\n",
    "\n",
    "Q_bar = np.array([[10,0.,0.,0.],\n",
    "                 [0.,1,0.,0.],\n",
    "                 [0.,0.,1.,0.],\n",
    "                 [0.,0.,0.,1.]\n",
    "                 ])\n",
    "R_bar = np.array([[1]])"
   ]
  },
  {
   "cell_type": "code",
   "execution_count": 120,
   "metadata": {},
   "outputs": [],
   "source": [
    "# Select basis for ker(np.kron(Iqm, C)) as Xi, i = 1...h+1. X0 is a constant matrix s.t. CX0 = 0\n",
    "Iqm = np.array([[1]])\n",
    "ns_C = null_space(np.kron(Iqm, C))\n",
    "X = np.zeros((h+2, n, qm))\n",
    "X[1] = np.array([[0],[0],[0],[0]])\n",
    "for i in range(1, h+1):\n",
    "    X[i+1] = ns_C[:,i-1,np.newaxis]"
   ]
  },
  {
   "cell_type": "code",
   "execution_count": 126,
   "metadata": {},
   "outputs": [],
   "source": [
    "#generate waypoints based on curvature\n",
    "def waypoints_generator(r):\n",
    "    res = []\n",
    "    return res\n",
    "\n",
    "#check if rank condition of X holds, according to (29)\n",
    "\n",
    "#X = [gamma_xi_xi, gamma_xi_u, gamma_xi_w]\n",
    "\n",
    "#"
   ]
  },
  {
   "cell_type": "markdown",
   "metadata": {},
   "source": [
    "Initial control policy"
   ]
  },
  {
   "cell_type": "code",
   "execution_count": 4,
   "metadata": {},
   "outputs": [],
   "source": [
    "# current best poles??\n",
    "Poles = np.array([-0.8,-0.88, -1.0, -1.1])\n",
    "K0 = signal.place_poles(A, B, Poles).gain_matrix"
   ]
  },
  {
   "cell_type": "markdown",
   "metadata": {},
   "source": [
    "Model-free method to solve the control problem"
   ]
  },
  {
   "cell_type": "code",
   "execution_count": 24,
   "metadata": {},
   "outputs": [
    {
     "name": "stdout",
     "output_type": "stream",
     "text": [
      "18\n",
      "18\n",
      "18\n",
      "18\n"
     ]
    }
   ],
   "source": [
    "# Simulation\n",
    "time_max = 70\n",
    "memory_size = int(time_max/dt)\n",
    "memory = np.zeros((memory_size, 10))\n",
    "\n",
    "# variance of the exploration noise\n",
    "sigma = 0.12\n",
    "w0 = 1.0/8\n",
    "x_init = np.array([0.1, vx*math.sin(Pi/12), Pi/12, vx*w0])\n",
    "x = x_init[:, np.newaxis]\n",
    "\n",
    "# memory matrices\n",
    "gamma_xx = np.zeros((h+2, n*n, memory_size))\n",
    "gamma_xu = np.zeros((h+2, n*m, memory_size))\n",
    "gamma_xw = np.zeros((h+2, n*q, memory_size//q))\n",
    "delta_xx = np.zeros((h+2, n*(n+1)//2, memory_size))\n",
    "# initialize u\n",
    "u = -K0@x_init\n",
    "\n",
    "# vecv operation\n",
    "def vecv(x):\n",
    "    l = len(x)\n",
    "    a = np.arange(l*l).reshape(l, l)\n",
    "    index_vecv = np.triu_indices(l)\n",
    "    tmp = a[index_vecv]\n",
    "    kron_product = np.kron(x, x)\n",
    "    result = kron_product[tmp]\n",
    "    return result\n",
    "\n",
    "# vecs operation\n",
    "def vecs(c):\n",
    "    l = c.shape[0]\n",
    "    a = np.arange(l*l).reshape(l, l)\n",
    "    index_vecs1 = np.triu_indices(l)\n",
    "    index_vecs2 = np.triu_indices(l,1)\n",
    "    c[index_vecs2] *= 2\n",
    "    return c[index_vecs1]\n",
    "\n",
    "# collect data for gamma_xx, gamma_xu, gamma_xw and delta_xx\n",
    "step = 0\n",
    "for w in W:\n",
    "    x[-1,:] = vx*w\n",
    "    w = np.array([w])[:, np.newaxis]\n",
    "    for j in range(memory_size//len(W)):\n",
    "        noise = np.random.normal(np.array([0]), np.array([sigma]))[:, np.newaxis]\n",
    "        u = -K0@x + noise\n",
    "        newx = env(x, u, vx*w)\n",
    "        for i in range(h+2):\n",
    "            x_bar = x - (X[i]@w)\n",
    "            newx_bar = newx - (X[i]@w)\n",
    "            gamma_xx[i,:,step] = dt * np.kron(x_bar, x_bar).squeeze()\n",
    "            gamma_xu[i,:,step] = dt * np.kron(x_bar, u).squeeze()\n",
    "            gamma_xw[i,:,step] = dt * np.kron(x_bar, w).squeeze()\n",
    "            delta_xx[i,:,step] = np.squeeze(vecv(newx_bar) - vecv(x_bar))\n",
    "        x = newx\n",
    "        step += 1\n",
    "            \n",
    "# check if meet rank condition, should be n(n+1)/2 + (m+qm)n = 18\n",
    "for i in range(h+1):\n",
    "    print(matrix_rank(np.hstack((gamma_xx[i,:,:].T, gamma_xu[i,:,:].T, gamma_xw[i,:,:].T))))"
   ]
  },
  {
   "cell_type": "markdown",
   "metadata": {},
   "source": [
    "Off-policy learning"
   ]
  },
  {
   "cell_type": "code",
   "execution_count": 25,
   "metadata": {},
   "outputs": [],
   "source": [
    "Psi = np.zeros((h+2, memory_size, 18))\n",
    "Phi = np.zeros((h+2, memory_size, 1))\n",
    "In = np.eye(4)\n",
    "def vec(c):\n",
    "    return c.flatten('F')[:,np.newaxis]\n",
    "\n",
    "def Psi_update(i, K_):\n",
    "    Psi[i,:,:] = np.hstack((delta_xx[i,:,:].T, -2*gamma_xx[i,:,:].T@np.kron(In, K_.T@R)-2*gamma_xu[i,:,:].T@np.kron(In,R), -2*gamma_xw[i,:,:].T))\n",
    "\n",
    "def Phi_update(i, K_):\n",
    "    Phi[i,:,:] = -gamma_xx[i,:,:].T@vec(Q+K_.T@R@K_)\n",
    "\n",
    "# Initialize Psi and Phi\n",
    "for i in range(h+2):\n",
    "    Psi_update(i, K0)\n",
    "    Phi_update(i, K0)\n",
    "    "
   ]
  },
  {
   "cell_type": "code",
   "execution_count": 121,
   "metadata": {},
   "outputs": [
    {
     "name": "stdout",
     "output_type": "stream",
     "text": [
      "Break at j = 1, i = 0\n",
      "Break at j = 1, i = 1\n",
      "Break at j = 1, i = 2\n",
      "Break at j = 1, i = 3\n",
      "Break at j = 1, i = 4\n"
     ]
    }
   ],
   "source": [
    "## algorithm begins here\n",
    "iter_max = 300\n",
    "size_XY = time_max\n",
    "size_batch = 1\n",
    "size_memory = memory.shape[0]\n",
    "\n",
    "# Solve Pj, Kj+1 until norm(Pj - Pj-1) < 1e-2\n",
    "\n",
    "Pstar = np.zeros((n,n))\n",
    "Kstar = np.zeros((m,n))\n",
    "Vstar = [np.zeros((memory_size-m-n, 1))] * (h+2)\n",
    "errP = np.zeros((h+2,iter_max))\n",
    "errK = np.zeros((h+2,iter_max))\n",
    "for i in range(h+2):\n",
    "    err_P = float('inf')\n",
    "    Ppre = np.array([])\n",
    "    Kpre = np.array([])\n",
    "    for j in range(iter_max):\n",
    "        pp = np.linalg.lstsq(Psi[i,:,:], Phi[i,:,:], rcond=None)[0]\n",
    "        P_vecs_size = n*(n+1)//2\n",
    "        P_vecs = pp[:P_vecs_size, :]\n",
    "        K_vec = pp[P_vecs_size: P_vecs_size+n, :]\n",
    "        K = K_vec.T \n",
    "        temp5 = np.zeros((n,n))\n",
    "        l = 0\n",
    "        for t1 in range(n):\n",
    "            for t2 in range(t1, n):\n",
    "                temp5[t1, t2] = pp[l]\n",
    "                l = l+1\n",
    "\n",
    "        P = (temp5 + temp5.T)/2.0\n",
    "        if Ppre.any():\n",
    "            err_P = np.linalg.norm(P - Ppre)\n",
    "            errP[i,j-1] = err_P\n",
    "        \n",
    "        Ppre = P\n",
    "        if Kpre.any():\n",
    "            err_K = np.linalg.norm(K - Kpre)\n",
    "            errK[i,j-1] = err_K\n",
    "        \n",
    "        Kpre = K\n",
    "        Psi_update(i, K)\n",
    "        Phi_update(i, K)\n",
    "        \n",
    "        if (err_P < 1e-2):\n",
    "            Pstar = P\n",
    "            Kstar = K\n",
    "            Vstar[i] = pp[P_vecs_size+n:,:] \n",
    "            print(\"Break at j = \" + str(j) + \", i = \" + str(i))\n",
    "            break\n",
    "            \n",
    "        if j == iter_max-1:\n",
    "            Pstar = P\n",
    "            Kstar = K\n",
    "            Vstar[i] = pp[P_vecs_size+n:,:] "
   ]
  },
  {
   "cell_type": "markdown",
   "metadata": {},
   "source": [
    "Plots show convergence of K and P values"
   ]
  },
  {
   "cell_type": "code",
   "execution_count": 27,
   "metadata": {},
   "outputs": [],
   "source": [
    "##plots \n",
    "fontsize_xylabel = 18\n",
    "fontsize_ticks = 10\n",
    "fontsize_legend = 16\n",
    "linewidth=1\n",
    "markersize=3"
   ]
  },
  {
   "cell_type": "code",
   "execution_count": 91,
   "metadata": {},
   "outputs": [
    {
     "data": {
      "text/plain": [
       "<matplotlib.legend.Legend at 0x133f644e0>"
      ]
     },
     "execution_count": 91,
     "metadata": {},
     "output_type": "execute_result"
    },
    {
     "data": {
      "image/png": "[encoded data removed]",
      "text/plain": [
       "<Figure size 432x288 with 2 Axes>"
      ]
     },
     "metadata": {
      "needs_background": "light"
     },
     "output_type": "display_data"
    }
   ],
   "source": [
    "try:\n",
    "    errP = np.trim_zeros(errP)\n",
    "except:\n",
    "    pass\n",
    "\n",
    "try:\n",
    "    errK = np.trim_zeros(errK)\n",
    "except:\n",
    "    pass\n",
    "\n",
    "plt.figure(5)\n",
    "plt.subplot(211)\n",
    "plt.ticklabel_format(style='sci', axis='y', scilimits=(0,0))\n",
    "plt.plot(errP[3,1:],'bs--',linewidth=linewidth, label=r'$|P_{j}-P_{j-1}|$', markersize=markersize)\n",
    "plt.tick_params(\n",
    "    axis='x',          # changes apply to the x-axis\n",
    "    which='both',      # both major and minor ticks are affected\n",
    "    bottom=False,      # ticks along the bottom edge are off\n",
    "    top=False,         # ticks along the top edge are off\n",
    "    labelbottom=False) # labels along the bottom edge are off\n",
    "plt.legend(fontsize=fontsize_legend, loc=0, ncol=1)\n",
    "plt.subplot(212)\n",
    "plt.ticklabel_format(style='sci', axis='y', scilimits=(0,0))\n",
    "plt.plot(errK[3,:],'bs--',linewidth=linewidth, label=r'$|K_{j}-K_{j-1}|$', markersize=markersize)\n",
    "plt.xlabel('iteration', fontsize=fontsize_xylabel)\n",
    "plt.tick_params(labelsize=fontsize_ticks)\n",
    "plt.legend(fontsize=fontsize_legend, loc=0, ncol=1)"
   ]
  },
  {
   "cell_type": "code",
   "execution_count": 29,
   "metadata": {},
   "outputs": [
    {
     "data": {
      "text/plain": [
       "array([[100.        ,   3.3232921 ,   2.49685404,   0.12808484]])"
      ]
     },
     "execution_count": 29,
     "metadata": {},
     "output_type": "execute_result"
    }
   ],
   "source": [
    "Kstar"
   ]
  },
  {
   "cell_type": "markdown",
   "metadata": {},
   "source": [
    "Solve L for known system"
   ]
  },
  {
   "cell_type": "code",
   "execution_count": 39,
   "metadata": {},
   "outputs": [
    {
     "name": "stdout",
     "output_type": "stream",
     "text": [
      "     pcost       dcost       gap    pres   dres\n",
      " 0:  2.3882e+04  2.3882e+04  5e+00  2e+00  3e-14\n",
      " 1:  2.3882e+04  2.3882e+04  5e-02  2e-02  1e-14\n",
      " 2:  2.3882e+04  2.3882e+04  5e-04  2e-04  2e-15\n",
      " 3:  2.3882e+04  2.3882e+04  5e-06  2e-06  2e-15\n",
      " 4:  2.3882e+04  2.3882e+04  5e-08  2e-08  8e-16\n",
      "Optimal solution found.\n"
     ]
    }
   ],
   "source": [
    "S_ = [np.zeros((n,qm))] * (h+2)\n",
    "for i in range(1, h+2):\n",
    "    S_[i] = -A@X[i]\n",
    "    \n",
    "l_Alpha = h+n*qm+m*qm \n",
    "Alpha = np.zeros((n*2, l_Alpha))\n",
    "b = np.zeros((n*2,1))\n",
    "D_hat_ = vx*D\n",
    "for i in range(2,h+2):\n",
    "    Alpha[:n, i-2] = vec(S_[i]).squeeze()\n",
    "    Alpha[n:, i-2] = vec(X[i]).squeeze()\n",
    "\n",
    "Alpha[:qm*n, -1] = -np.kron(np.eye(qm), B).squeeze()\n",
    "Alpha[2*n - n*qm:, h:h+n*qm] = -np.eye(n*qm)\n",
    "b = np.vstack((vec(-S_[1] + D_hat_), -vec(X[1])))\n",
    "\n",
    "A_11 = Alpha[:2*n-h, :h]\n",
    "A_21 = Alpha[2*n-h:, :h]\n",
    "A_12 = Alpha[:2*n-h, h:]\n",
    "A_22 = Alpha[2*n-h:, h:]\n",
    "\n",
    "b1 = b[h:]\n",
    "b2 = b[:h]\n",
    "\n",
    "M = -A_11@scipy.linalg.inv((A_21))@A_22 + A_12\n",
    "N = -A_11@scipy.linalg.inv((A_21))@b2 + b1\n",
    "Temp = np.zeros((n*qm+m*qm, n*qm+m*qm))\n",
    "Temp[:n*qm,:n*qm] = np.kron(np.eye(qm), Q_bar)\n",
    "Temp[n*qm:,n*qm:] = np.kron(np.eye(qm), R_bar)\n",
    "\n",
    "#cvxopt.solvers.coneqp(P, q[, G, h[, dims[, A, b[, initvals[, kktsolver]]]]])\n",
    "H = np.zeros((n*qm+m*qm, 1))\n",
    "G = np.zeros((n*qm+m*qm, n*qm+m*qm))\n",
    "sol = solvers.qp(matrix(Temp), matrix(np.zeros((n*qm+m*qm, 1))), matrix(G), matrix(H), matrix(M), matrix(N))\n",
    "Xstar_ = sol['x'][:n*qm]\n",
    "Ustar_ = sol['x'][n*qm:]\n",
    "Lstar_ = Ustar_ + Kstar@Xstar_"
   ]
  },
  {
   "cell_type": "code",
   "execution_count": 31,
   "metadata": {},
   "outputs": [
    {
     "data": {
      "text/plain": [
       "array([[865.28756706]])"
      ]
     },
     "execution_count": 31,
     "metadata": {},
     "output_type": "execute_result"
    }
   ],
   "source": [
    "Lstar_"
   ]
  },
  {
   "cell_type": "markdown",
   "metadata": {},
   "source": [
    "Solve L with ADP (system unknown)"
   ]
  },
  {
   "cell_type": "code",
   "execution_count": 122,
   "metadata": {
    "scrolled": true
   },
   "outputs": [
    {
     "name": "stdout",
     "output_type": "stream",
     "text": [
      "     pcost       dcost       gap    pres   dres\n",
      " 0:  3.4312e+09  3.4313e+09  5e+00  2e+00  6e-07\n",
      " 1:  3.4313e+09  3.4313e+09  5e-02  2e-02  1e-06\n",
      " 2:  3.4313e+09  3.4313e+09  5e-04  2e-04  1e-06\n",
      " 3:  3.4313e+09  3.4313e+09  5e-06  2e-06  3e-06\n",
      " 4:  3.4313e+09  3.4313e+09  5e-08  2e-08  8e-07\n",
      " 5:  3.4313e+09  3.4313e+09  5e-10  2e-10  3e-06\n",
      " 6:  3.4313e+09  3.4313e+09  5e-12  2e-12  6e-07\n",
      " 7:  3.4313e+09  3.4313e+09  5e-14  2e-14  1e-06\n",
      " 8:  3.4313e+09  3.4313e+09  5e-16  2e-15  2e-06\n",
      " 9:  3.4313e+09  3.4313e+09  5e-18  9e-16  2e-06\n",
      "10:  3.4313e+09  3.4313e+09  5e-20  2e-15  2e-06\n",
      "11:  3.4313e+09  3.4313e+09  5e-22  9e-16  2e-06\n",
      "12:  3.4313e+09  3.4313e+09  5e-24  1e-16  2e-06\n",
      "13:  3.4313e+09  3.4313e+09  5e-26  2e-15  2e-06\n",
      "14:  3.4313e+09  3.4313e+09  5e-28  2e-15  2e-06\n",
      "15:  3.4313e+09  3.4313e+09  5e-30  7e-16  2e-06\n",
      "16:  3.4313e+09  3.4313e+09  5e-32  1e-16  2e-06\n",
      "17:  3.4313e+09  3.4313e+09  5e-34  1e-15  8e-07\n",
      "18:  3.4313e+09  3.4313e+09  5e-36  1e-16  2e-06\n",
      "19:  3.4313e+09  3.4313e+09  5e-38  1e-16  2e-06\n",
      "20:  3.4313e+09  3.4313e+09  5e-40  7e-16  2e-06\n",
      "21:  3.4313e+09  3.4313e+09  5e-42  1e-16  3e-06\n",
      "22:  3.4313e+09  3.4313e+09  5e-44  9e-16  3e-06\n",
      "23:  3.4313e+09  3.4313e+09  5e-46  1e-15  7e-07\n",
      "24:  3.4313e+09  3.4313e+09  5e-48  9e-16  3e-06\n",
      "25:  3.4313e+09  3.4313e+09  5e-50  2e-15  2e-06\n",
      "26:  3.4313e+09  3.4313e+09  5e-52  2e-15  1e-06\n",
      "27:  3.4313e+09  3.4313e+09  5e-54  7e-16  2e-06\n",
      "28:  3.4313e+09  3.4313e+09  5e-56  9e-16  1e-06\n",
      "29:  3.4313e+09  3.4313e+09  5e-58  9e-16  3e-06\n",
      "30:  3.4313e+09  3.4313e+09  5e-60  2e-15  2e-06\n",
      "31:  3.4313e+09  3.4313e+09  5e-62  2e-15  9e-07\n",
      "32:  3.4313e+09  3.4313e+09  5e-64  2e-15  3e-06\n",
      "33:  3.4313e+09  3.4313e+09  5e-66  3e-15  6e-07\n",
      "34:  3.4313e+09  3.4313e+09  5e-68  2e-15  3e-06\n",
      "35:  3.4313e+09  3.4313e+09  5e-70  2e-15  2e-06\n",
      "36:  3.4313e+09  3.4313e+09  5e-72  7e-16  3e-06\n",
      "37:  3.4313e+09  3.4313e+09  5e-74  1e-16  2e-06\n",
      "38:  3.4313e+09  3.4313e+09  5e-76  7e-16  2e-06\n",
      "39:  3.4313e+09  3.4313e+09  5e-78  9e-16  2e-06\n",
      "40:  3.4313e+09  3.4313e+09  5e-80  7e-16  1e-06\n",
      "41:  3.4313e+09  3.4313e+09  5e-82  9e-16  7e-07\n",
      "42:  3.4313e+09  3.4313e+09  5e-84  2e-15  1e-06\n",
      "43:  3.4313e+09  3.4313e+09  5e-86  2e-15  3e-06\n",
      "44:  3.4313e+09  3.4313e+09  5e-88  9e-16  9e-07\n",
      "45:  3.4313e+09  3.4313e+09  5e-90  2e-15  8e-07\n",
      "46:  3.4313e+09  3.4313e+09  5e-92  2e-15  2e-06\n",
      "47:  3.4313e+09  3.4313e+09  5e-94  1e-16  1e-06\n",
      "48:  3.4313e+09  3.4313e+09  5e-96  1e-16  3e-06\n",
      "49:  3.4313e+09  3.4313e+09  5e-98  1e-15  2e-06\n",
      "50:  3.4313e+09  3.4313e+09  5e-100  1e-16  5e-07\n",
      "51:  3.4313e+09  3.4313e+09  5e-102  1e-15  2e-06\n",
      "52:  3.4313e+09  3.4313e+09  5e-104  2e-15  3e-07\n",
      "53:  3.4313e+09  3.4313e+09  5e-106  1e-15  3e-06\n",
      "54:  3.4313e+09  3.4313e+09  5e-108  2e-15  2e-06\n",
      "55:  3.4313e+09  3.4313e+09  5e-110  2e-15  3e-06\n",
      "56:  3.4313e+09  3.4313e+09  5e-112  2e-15  1e-06\n",
      "57:  3.4313e+09  3.4313e+09  5e-114  2e-15  1e-06\n",
      "58:  3.4313e+09  3.4313e+09  5e-116  1e-15  1e-06\n",
      "59:  3.4313e+09  3.4313e+09  5e-118  2e-15  2e-06\n",
      "60:  3.4313e+09  3.4313e+09  5e-120  2e-15  2e-06\n",
      "61:  3.4313e+09  3.4313e+09  5e-122  2e-15  2e-06\n",
      "62:  3.4313e+09  3.4313e+09  5e-124  2e-15  4e-06\n",
      "63:  3.4313e+09  3.4313e+09  5e-126  3e-15  2e-06\n",
      "64:  3.4313e+09  3.4313e+09  5e-128  2e-15  2e-06\n",
      "65:  3.4313e+09  3.4313e+09  5e-130  1e-15  1e-06\n",
      "66:  3.4313e+09  3.4313e+09  5e-132  2e-15  2e-06\n",
      "67:  3.4313e+09  3.4313e+09  5e-134  2e-15  1e-06\n",
      "68:  3.4313e+09  3.4313e+09  5e-136  1e-15  4e-06\n",
      "69:  3.4313e+09  3.4313e+09  5e-138  1e-15  3e-06\n",
      "70:  3.4313e+09  3.4313e+09  5e-140  2e-15  2e-06\n",
      "71:  3.4313e+09  3.4313e+09  5e-142  2e-15  1e-06\n",
      "72:  3.4313e+09  3.4313e+09  5e-144  2e-15  3e-06\n",
      "73:  3.4313e+09  3.4313e+09  5e-146  3e-15  2e-06\n",
      "74:  3.4313e+09  3.4313e+09  5e-148  2e-15  3e-06\n",
      "75:  3.4313e+09  3.4313e+09  5e-150  2e-15  2e-06\n",
      "76:  3.4313e+09  3.4313e+09  5e-152  7e-16  1e-06\n",
      "77:  3.4313e+09  3.4313e+09  5e-154  2e-15  1e-06\n",
      "78:  3.4313e+09  3.4313e+09  5e-156  2e-15  1e-06\n",
      "79:  3.4313e+09  3.4313e+09  5e-158  1e-16  1e-06\n",
      "80:  3.4313e+09  3.4313e+09  5e-160  1e-15  7e-07\n",
      "81:  3.4313e+09  3.4313e+09  5e-162  2e-15  8e-07\n",
      "82:  3.4313e+09  3.4313e+09  5e-164  7e-16  8e-07\n",
      "83:  3.4313e+09  3.4313e+09  5e-166  2e-15  2e-06\n",
      "84:  3.4313e+09  3.4313e+09  5e-168  2e-15  9e-07\n",
      "85:  3.4313e+09  3.4313e+09  5e-170  1e-16  2e-06\n",
      "86:  3.4313e+09  3.4313e+09  5e-172  2e-15  3e-06\n",
      "87:  3.4313e+09  3.4313e+09  5e-174  1e-16  2e-06\n",
      "88:  3.4313e+09  3.4313e+09  5e-176  7e-16  3e-06\n",
      "89:  3.4313e+09  3.4313e+09  5e-178  2e-15  2e-06\n",
      "90:  3.4313e+09  3.4313e+09  5e-180  9e-16  1e-06\n",
      "91:  3.4313e+09  3.4313e+09  5e-182  3e-15  2e-06\n",
      "92:  3.4313e+09  3.4313e+09  5e-184  1e-16  2e-06\n",
      "93:  3.4313e+09  3.4313e+09  5e-186  2e-15  1e-06\n",
      "94:  3.4313e+09  3.4313e+09  5e-188  1e-16  2e-06\n",
      "95:  3.4313e+09  3.4313e+09  5e-190  1e-16  1e-06\n",
      "96:  3.4313e+09  3.4313e+09  5e-192  2e-15  2e-06\n",
      "97:  3.4313e+09  3.4313e+09  5e-194  2e-15  1e-06\n",
      "98:  3.4313e+09  3.4313e+09  5e-196  2e-15  7e-07\n",
      "99:  3.4313e+09  3.4313e+09  5e-198  9e-16  2e-06\n",
      "100:  3.4313e+09  3.4313e+09  5e-200  2e-15  2e-06\n",
      "Terminated (maximum number of iterations reached).\n"
     ]
    }
   ],
   "source": [
    "# Repeat solving S(Xi) from (36): Learnt S\n",
    "S = [np.zeros((n,qm))] * (h+2)\n",
    "D_hat = (Vstar[0].T @ scipy.linalg.inv((Pstar))).T\n",
    "for i in range(1, h+2):\n",
    "    S[i] = (D_hat.T - (Vstar[i].T @ scipy.linalg.inv((Pstar)))).T\n",
    "\n",
    "# Learnt B\n",
    "B_ = scipy.linalg.inv((Pstar))@ Kstar.T @R\n",
    "\n",
    "## Get M and N:\n",
    "# Get Alpha and b\n",
    "l_Alpha = h+n*qm+m*qm \n",
    "Alpha = np.zeros((n*2, l_Alpha))\n",
    "b = np.zeros((n*2,1))\n",
    "\n",
    "for i in range(2,h+2):\n",
    "    Alpha[:n, i-2] = vec(S[i]).squeeze()\n",
    "    Alpha[n:, i-2] = vec(X[i]).squeeze()\n",
    "\n",
    "Alpha[:qm*n, -1] = -np.kron(np.eye(qm), B_).squeeze()\n",
    "Alpha[2*n - n*qm:, h:h+n*qm] = -np.eye(n*qm)\n",
    "b = np.vstack((vec(-S[1] + D_hat), -vec(X[1])))\n",
    "\n",
    "A_11 = Alpha[:2*n-h, :h]\n",
    "A_21 = Alpha[2*n-h:, :h]\n",
    "A_12 = Alpha[:2*n-h, h:]\n",
    "A_22 = Alpha[2*n-h:, h:]\n",
    "\n",
    "b1 = b[h:]\n",
    "b2 = b[:h]\n",
    "\n",
    "M = -A_11@scipy.linalg.inv((A_21))@A_22 + A_12\n",
    "N = -A_11@scipy.linalg.inv((A_21))@b2 + b1\n",
    "\n",
    "# Get Xstar and Ustar:\n",
    "\n",
    "Temp = np.zeros((n*qm+m*qm, n*qm+m*qm))\n",
    "Temp[:n*qm,:n*qm] = np.kron(np.eye(qm), Q_bar)\n",
    "Temp[n*qm:,n*qm:] = np.kron(np.eye(qm), R_bar)\n",
    "\n",
    "#cvxopt.solvers.coneqp(P, q[, G, h[, dims[, A, b[, initvals[, kktsolver]]]]])\n",
    "H = np.zeros((n*qm+m*qm, 1))\n",
    "G = np.zeros((n*qm+m*qm, n*qm+m*qm))\n",
    "sol = solvers.qp(matrix(Temp), matrix(np.zeros((n*qm+m*qm, 1))), matrix(G), matrix(H), matrix(M), matrix(N))\n",
    "Xstar = sol['x'][:n*qm]\n",
    "Ustar = sol['x'][n*qm:]\n",
    "Lstar = Ustar + Kstar@Xstar"
   ]
  },
  {
   "cell_type": "code",
   "execution_count": 93,
   "metadata": {},
   "outputs": [
    {
     "data": {
      "text/plain": [
       "array([[875.9068284]])"
      ]
     },
     "execution_count": 93,
     "metadata": {},
     "output_type": "execute_result"
    }
   ],
   "source": [
    "Lstar"
   ]
  },
  {
   "cell_type": "code",
   "execution_count": 126,
   "metadata": {},
   "outputs": [],
   "source": [
    "#Test ADP contoller\n",
    "time_simulation_adp = 10000\n",
    "x_traj_after_learning = np.zeros((4, time_simulation_adp))\n",
    "u_traj_after_learning = np.zeros((1, time_simulation_adp))\n",
    "#x = np.random.normal(np.array([0.5, 0.5]), np.array([0.0, 0.0]))[:, np.newaxis]\n",
    "w0 = W[0]\n",
    "x_ = np.array([1, vx*math.sin(Pi/12), Pi/12, vx*w0])[:, np.newaxis]\n",
    "i = 0\n",
    "for w in W[:]:\n",
    "    x_[-1,:] = vx*w\n",
    "    for _ in range(time_simulation_adp//len(W[:])):\n",
    "        x = x_\n",
    "        u = -Kstar @ x + Lstar @ np.array([[w]])\n",
    "        x_ = env(x, u, vx*np.array([[w0]]))\n",
    "        x_traj_after_learning[:, i] = x_.reshape((4))\n",
    "        u_traj_after_learning[:, i] = u.reshape((1))\n",
    "        i += 1"
   ]
  },
  {
   "cell_type": "code",
   "execution_count": 127,
   "metadata": {},
   "outputs": [],
   "source": [
    "##plots \n",
    "fontsize_xylabel = 12\n",
    "fontsize_ticks = 12\n",
    "fontsize_legend = 10\n",
    "linewidth=2\n",
    "markersize=3"
   ]
  },
  {
   "cell_type": "markdown",
   "metadata": {},
   "source": [
    "Plots for state trajectory(Controler validation)"
   ]
  },
  {
   "cell_type": "code",
   "execution_count": 128,
   "metadata": {},
   "outputs": [
    {
     "data": {
      "image/png": "[encoded data removed]",
      "text/plain": [
       "<Figure size 432x288 with 1 Axes>"
      ]
     },
     "metadata": {
      "needs_background": "light"
     },
     "output_type": "display_data"
    },
    {
     "data": {
      "image/png": "[encoded data removed]",
      "text/plain": [
       "<Figure size 432x288 with 1 Axes>"
      ]
     },
     "metadata": {
      "needs_background": "light"
     },
     "output_type": "display_data"
    }
   ],
   "source": [
    "# x_traj_0_whole = np.concatenate((x_traj_0[:, np.newaxis], x_traj_after_learning[0,:][:, np.newaxis]), axis=0)\n",
    "# x_traj_1_whole = np.concatenate((x_traj_1[:, np.newaxis], x_traj_after_learning[1,:][:, np.newaxis]), axis=0)\n",
    "plt.figure(0)\n",
    "plt.title('state trajectory')\n",
    "plt.plot(x_traj_after_learning[0,:], linestyle='-', linewidth=linewidth, color='blue', label=r'${x}_1$')\n",
    "#plt.plot(x_traj_1_whole, linestyle='-.', linewidth=linewidth, color='red', label=r'${x}_2$')\n",
    "plt.xlabel('sampling instant', fontsize=fontsize_xylabel)\n",
    "plt.tick_params(labelsize=fontsize_ticks)\n",
    "plt.legend(fontsize=fontsize_legend, loc=0, ncol=1)\n",
    "plt.annotate(\n",
    "        'controllers \\n update', ha='center', fontsize=fontsize_xylabel,\n",
    "        xy=(time_max, 0.007), arrowprops=dict(arrowstyle='->'), xytext=(time_max+20, 0.007))\n",
    "lgd = pylab.legend(fontsize=fontsize_legend,loc=3, mode=\"expand\", bbox_to_anchor=(0., 1.02, 1., .102), \n",
    "                   ncol=4, borderaxespad=0.)\n",
    "art = []\n",
    "art.append(lgd)\n",
    "#pylab.savefig(\"VI_x_traj.png\", additional_artists=art, bbox_inches=\"tight\",dpi=200)\n",
    "\n",
    "plt.figure(1)\n",
    "plt.title('control trajectory')\n",
    "#plt.plot(x_traj_0_whole, linestyle='-', linewidth=linewidth, color='blue', label=r'${x}_1$')\n",
    "plt.plot(u_traj_after_learning[0,:], linestyle='-.', linewidth=linewidth, color='red', label=r'${u}$')\n",
    "plt.xlabel('sampling instant', fontsize=fontsize_xylabel)\n",
    "plt.tick_params(labelsize=fontsize_ticks)\n",
    "plt.legend(fontsize=fontsize_legend, loc=0, ncol=1)\n",
    "plt.annotate(\n",
    "        'controllers \\n update', ha='center', fontsize=fontsize_xylabel,\n",
    "        xy=(time_max, -0.3), arrowprops=dict(arrowstyle='->'), xytext=(time_max+20, -0.3))\n",
    "lgd = pylab.legend(fontsize=fontsize_legend,loc=3, mode=\"expand\", bbox_to_anchor=(0., 1.02, 1., .102), \n",
    "                   ncol=4, borderaxespad=0.)\n",
    "art = []\n",
    "art.append(lgd)"
   ]
  },
  {
   "cell_type": "code",
   "execution_count": null,
   "metadata": {},
   "outputs": [],
   "source": []
  }
 ],
 "metadata": {
  "kernelspec": {
   "display_name": "Python 3",
   "language": "python",
   "name": "python3"
  },
  "language_info": {
   "codemirror_mode": {
    "name": "ipython",
    "version": 3
   },
   "file_extension": ".py",
   "mimetype": "text/x-python",
   "name": "python",
   "nbconvert_exporter": "python",
   "pygments_lexer": "ipython3",
   "version": "3.6.2"
  }
 },
 "nbformat": 4,
 "nbformat_minor": 4
}
